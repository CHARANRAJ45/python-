{
 "cells": [
  {
   "cell_type": "code",
   "execution_count": 1,
   "id": "731b51dd-3740-4f3a-8ebe-be1334b54b09",
   "metadata": {},
   "outputs": [
    {
     "name": "stdin",
     "output_type": "stream",
     "text": [
      " 3 5\n"
     ]
    },
    {
     "data": {
      "text/plain": [
       "243"
      ]
     },
     "execution_count": 1,
     "metadata": {},
     "output_type": "execute_result"
    }
   ],
   "source": [
    "#power of two numbers\n",
    "def p(a,b):\n",
    "    if b==0:\n",
    "        return 1\n",
    "    return a*p(a,b-1)\n",
    "a,b=map(int,input().split())\n",
    "p(a,b)"
   ]
  },
  {
   "cell_type": "code",
   "execution_count": 8,
   "id": "e52e27fa-ac09-4219-95ff-e00dde24f5db",
   "metadata": {},
   "outputs": [
    {
     "data": {
      "text/plain": [
       "3"
      ]
     },
     "execution_count": 8,
     "metadata": {},
     "output_type": "execute_result"
    }
   ],
   "source": [
    "#return to 1\n",
    "def one(n):\n",
    "    if n==1:\n",
    "        return 0\n",
    "    elif n%2==0:\n",
    "        return 1+one(n//2)\n",
    "    else:\n",
    "        return 1+min(one(n-1),one(n+1))\n",
    "one(5)"
   ]
  },
  {
   "cell_type": "markdown",
   "id": "19339fb8-2db6-4e92-b98c-f2aee951c532",
   "metadata": {},
   "source": [
    "STACK:\n",
    ">A stack is a linear data structure that follows the Last-In-First-Out (LIFO) principle\n",
    ">Push: Adds a new element on the stack.      >append\n",
    "Pop: Removes and returns the top element from the stack.    >pop\n",
    "Peek: Returns the top (last) element on the stack.          >top\n",
    "isEmpty: Checks if the stack is empty.\n",
    "Size: Finds the number of elements in the stack.\n",
    ">Stacks can be implemented by using arrays or linked lists."
   ]
  },
  {
   "cell_type": "code",
   "execution_count": 10,
   "id": "5e57ee40-505c-4f97-a39f-33a475a0e862",
   "metadata": {},
   "outputs": [
    {
     "name": "stdout",
     "output_type": "stream",
     "text": [
      "[3, 5]\n"
     ]
    }
   ],
   "source": [
    "stack =[]\n",
    "stack.append(3)\n",
    "stack.append(5)\n",
    "stack.append(4)\n",
    "stack.pop()\n",
    "print(stack)"
   ]
  },
  {
   "cell_type": "code",
   "execution_count": null,
   "id": "abf06a2e-ffae-4b5b-978d-5d9632484a64",
   "metadata": {},
   "outputs": [],
   "source": [
    "s='abc*vhaj***'\n",
    "s=[]\n",
    "for i in s:\n",
    "    if i!=\"*\":\n",
    "        s.append(i)\n",
    "    else:\n",
    "        s.pop()\n",
    "x=\" \".join(s)\n",
    "print(s)\n"
   ]
  },
  {
   "cell_type": "markdown",
   "id": "cc6e52f9-3b03-4a98-a928-56e0fdbb9e2b",
   "metadata": {},
   "source": [
    "### valid paranthisis leetcode :20"
   ]
  },
  {
   "cell_type": "code",
   "execution_count": null,
   "id": "411a4c25-8123-42b2-acfe-f92128d86daa",
   "metadata": {},
   "outputs": [],
   "source": [
    "stack = []\n",
    "        for i in s:\n",
    "            if i == \"(\":\n",
    "                stack.append(\"(\")\n",
    "            elif i == \"[\":\n",
    "                stack.append(\"[\")\n",
    "            elif i == \"{\":\n",
    "                stack.append(\"{\")\n",
    "            elif i == \")\":\n",
    "                if not stack or stack[-1] != \"(\":\n",
    "                    return False\n",
    "                stack.pop()\n",
    "            elif i == \"]\":\n",
    "                if not stack or stack[-1] != \"[\":\n",
    "                    return False\n",
    "                stack.pop()\n",
    "            elif i == \"}\":\n",
    "                if not stack or stack[-1] != \"{\":\n",
    "                    return False\n",
    "                stack.pop()\n",
    "        if stack == []:\n",
    "            return True\n",
    "        else:\n",
    "            return False"
   ]
  },
  {
   "cell_type": "markdown",
   "id": "9c8a3ea6-ec6f-4c88-bf68-a2aea2e59d21",
   "metadata": {},
   "source": [
    "# leetcode 496"
   ]
  },
  {
   "cell_type": "code",
   "execution_count": null,
   "id": "8645f130-6f63-4b86-8e3d-420a1aff46ff",
   "metadata": {},
   "outputs": [],
   "source": [
    "class Solution:\n",
    "    def nextGreaterElement(self, nums1: List[int], nums2: List[int]) -> List[int]:\n",
    "        map = {}\n",
    "        stack = []\n",
    "        for num in nums2 :\n",
    "            while stack and num > stack[-1]:\n",
    "                map[stack.pop()] = num\n",
    "            stack.append(num)\n",
    "        result = []\n",
    "        for val in nums1 :\n",
    "            result.append(map.get(val,-1))\n",
    "        return result "
   ]
  },
  {
   "cell_type": "markdown",
   "id": "434d3f86-b5a3-4fb6-a237-9d7a1bcff424",
   "metadata": {},
   "source": [
    "## leetcode:1700"
   ]
  },
  {
   "cell_type": "code",
   "execution_count": null,
   "id": "9af59671-85ee-4ddb-8c51-5648827e8f90",
   "metadata": {},
   "outputs": [],
   "source": [
    "class Solution:\n",
    "    def countStudents(self, students: List[int], sandwiches: List[int]) -> int:\n",
    "        c=[0,0]\n",
    "        for i in students:\n",
    "            c[i]+=1\n",
    "        \n",
    "        r=len(sandwiches)\n",
    "        for j in sandwiches:\n",
    "            if c[j]==0:\n",
    "                break\n",
    "            if r==0:\n",
    "                break\n",
    "            c[j]-=1\n",
    "            r-=1\n",
    "        return r"
   ]
  },
  {
   "cell_type": "code",
   "execution_count": null,
   "id": "e4217a14-fb81-4615-a27b-0860d70ced2b",
   "metadata": {},
   "outputs": [],
   "source": [
    "class Solution:\n",
    "    def countStudents(self, students: List[int], sandwiches: List[int]) -> int:\n",
    "        n=len(students)\n",
    "        while students and sandwiches and sandwiches[0] in students:\n",
    "            if students[0]!=sandwiches[0]:\n",
    "                students.append(students.pop(0))\n",
    "            else:\n",
    "                students.pop(0)\n",
    "                sandwiches.pop(0)\n",
    "                n-=1\n",
    "        return"
   ]
  }
 ],
 "metadata": {
  "kernelspec": {
   "display_name": "Python [conda env:base] *",
   "language": "python",
   "name": "conda-base-py"
  },
  "language_info": {
   "codemirror_mode": {
    "name": "ipython",
    "version": 3
   },
   "file_extension": ".py",
   "mimetype": "text/x-python",
   "name": "python",
   "nbconvert_exporter": "python",
   "pygments_lexer": "ipython3",
   "version": "3.13.5"
  }
 },
 "nbformat": 4,
 "nbformat_minor": 5
}
