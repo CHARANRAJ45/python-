{
 "cells": [
  {
   "cell_type": "markdown",
   "id": "1dc27038-a581-4db9-8f6e-281cb99a0bcb",
   "metadata": {},
   "source": [
    "# sorting\n",
    "\n",
    "### bubble sort  : \n",
    "### selection sort :\n",
    "### Insertion sort :\n",
    "### Quick Sort :\n",
    "### Merge Sort :"
   ]
  },
  {
   "cell_type": "markdown",
   "id": "1d7edd65-2fac-4312-89bc-b422f3cd690c",
   "metadata": {},
   "source": [
    "### bubble sort  :  Time Complexity: O(n2)\n",
    "> Bubble Sort is the simplest sorting algorithm that works by repeatedly swapping the adjacent elements if they are in the wrong order. This algorithm is not suitable for large data sets as its average and worst-case time complexity are quite high."
   ]
  },
  {
   "cell_type": "code",
   "execution_count": 1,
   "id": "2ab93f22-e7ca-4865-afcd-f69fa9676d7f",
   "metadata": {},
   "outputs": [
    {
     "name": "stdout",
     "output_type": "stream",
     "text": [
      "bubble sort arr [1, 2, 4, 6, 7, 33]\n"
     ]
    }
   ],
   "source": [
    "def bubblesort(arr):\n",
    "    n=len(arr)\n",
    "    for i in range(n):\n",
    "        #swap=False\n",
    "        for j in range(0,n-i-1):\n",
    "            if arr[j]>arr[j+1]:\n",
    "                arr[j],arr[j+1]=arr[j+1],arr[j]\n",
    "                #swap=True\n",
    "arr=[1,33,4,2,6,7]\n",
    "bubblesort(arr)\n",
    "print(\"bubble sort arr\",arr)\n",
    "            "
   ]
  },
  {
   "cell_type": "markdown",
   "id": "4b2a0513-a6a8-485d-a528-f08d29043709",
   "metadata": {},
   "source": [
    "### selection sort :  Time Complexity: O(n2) \n",
    ",as there are two nested loops:\n",
    "\n",
    "One loop to select an element of Array one by one = O(n)\n",
    "Another loop to compare that element with every other Array element = O(n)\n",
    "Therefore overall complexity = O(n) * O(n) = O(n*n) = O(n2)\n",
    ">Selection Sort is a comparison-based sorting algorithm. It sorts an array by repeatedly selecting the smallest (or largest) element from the unsorted portion and swapping it with the first unsorted element. This process continues until the entire array is sorted"
   ]
  },
  {
   "cell_type": "code",
   "execution_count": 2,
   "id": "1c5d3d42-c17b-42d1-8188-1845062aa0b8",
   "metadata": {},
   "outputs": [
    {
     "name": "stdout",
     "output_type": "stream",
     "text": [
      "selection sort arr [1, 2, 4, 6, 7, 33]\n"
     ]
    }
   ],
   "source": [
    "def selectionsort(arr):\n",
    "    n=len(arr)\n",
    "    for i in range(n):\n",
    "        min_idx=i\n",
    "        for j in range(i+1,n):\n",
    "            if arr[j]<arr[min_idx]:\n",
    "                min_idx=j\n",
    "        arr[i],arr[min_idx]=arr[min_idx],arr[i]\n",
    "arr=[1,33,4,2,6,7]\n",
    "selectionsort(arr)\n",
    "print(\"selection sort arr\",arr)"
   ]
  },
  {
   "cell_type": "markdown",
   "id": "725b27bd-5247-4c21-abd7-a637897dfaf4",
   "metadata": {},
   "source": [
    "### Insertion sort:\n",
    "Best case: O(n), If the list is already sorted, where n is the number of elements in the list.\n",
    "Average case: O(n2), If the list is randomly ordered\n",
    "Worst case: O(n2), If the list is in reverse order\n",
    ">Insertion sort is a simple sorting algorithm that works by iteratively inserting each element of an unsorted list into its correct position in a sorted portion of the list. It is like sorting playing cards in your hands. You split the cards into two groups: the sorted cards and the unsorted cards. Then, you pick a card from the unsorted group and put it in the right place in the sorted group"
   ]
  },
  {
   "cell_type": "code",
   "execution_count": 3,
   "id": "eaaa6d61-e2ad-4419-8c43-aa21fd18a4cb",
   "metadata": {},
   "outputs": [
    {
     "name": "stdout",
     "output_type": "stream",
     "text": [
      "insertionsort arr [1, 2, 4, 6, 7, 33]\n"
     ]
    }
   ],
   "source": [
    "def insertionsort(arr):\n",
    "    for i in range(len(arr)):\n",
    "        key=arr[i]\n",
    "        j=i-1\n",
    "        while j>=0 and key<arr[j]:\n",
    "            arr[j+1]=arr[j]\n",
    "            j-=1\n",
    "        arr[j+1]=key\n",
    "arr=[1,33,4,2,6,7]\n",
    "insertionsort(arr)\n",
    "print(\"insertionsort arr\",arr)"
   ]
  },
  {
   "cell_type": "markdown",
   "id": "cf6a8f86-b220-4a71-8fbb-27bf53208c8d",
   "metadata": {},
   "source": [
    "### Quick Sort :\n",
    "Time Complexity:\n",
    "\n",
    "Best Case: (Ω(n log n)), Occurs when the pivot element divides the array into two equal halves.\n",
    "Average Case (θ(n log n)), On average, the pivot divides the array into two parts, but not necessarily equal.\n",
    "Worst Case: (O(n²)), Occurs when the smallest or largest element is always chosen as the pivot (e.g., sorted arrays\n",
    "\n",
    "QuickSort is a sorting algorithm based on the Divide and Conquer that picks an element as a pivot and partitions the given array around the picked pivot by placing the pivot in its correct position in the sorted array.\n",
    "\n",
    "It works on the principle of divide and conquer, breaking down the problem into smaller sub-problems"
   ]
  },
  {
   "cell_type": "code",
   "execution_count": 8,
   "id": "61cfb434-5000-451b-a931-234630678d75",
   "metadata": {},
   "outputs": [
    {
     "name": "stdout",
     "output_type": "stream",
     "text": [
      "[1, 2, 4, 6, 7, 33]\n",
      "quicksort arr [1, 33, 4, 2, 6, 7]\n"
     ]
    }
   ],
   "source": [
    "def quicksort(arr):\n",
    "    if len(arr)<=1:\n",
    "        return arr\n",
    "    pivot = arr[0]\n",
    "    left = [x for x in arr[1:] if x<=pivot]\n",
    "    right = [x for x in arr[1:] if  x>pivot]\n",
    "    return quicksort(left) +[ pivot] + quicksort(right)\n",
    "arr=[1,33,4,2,6,7]\n",
    "print(quicksort(arr))\n",
    "print(\"quicksort arr\",arr)"
   ]
  },
  {
   "cell_type": "markdown",
   "id": "8fb37eee-dffc-47ff-96b8-3913c1ae309a",
   "metadata": {},
   "source": [
    "### Merge Sort :\n",
    "Time Complexity:\n",
    "\n",
    "Best Case: O(n log n), When the array is already sorted or nearly sorted.\n",
    "Average Case: O(n log n), When the array is randomly ordered.\n",
    "Worst Case: O(n log n), When the array is sorted in reverse order.\n",
    "\n",
    "Merge sort is a popular sorting algorithm known for its efficiency and stability. It follows the Divide and Conquer approach. It works by recursively dividing the input array into two halves, recursively sorting the two halves and finally merging them back together to obtain the sorted array."
   ]
  },
  {
   "cell_type": "code",
   "execution_count": 9,
   "id": "97852333-b2fd-40fc-a29c-2bb29d7c0b52",
   "metadata": {},
   "outputs": [
    {
     "name": "stdout",
     "output_type": "stream",
     "text": [
      "[1, 2, 2, 3, 3, 4, 7, 33, 66]\n"
     ]
    }
   ],
   "source": [
    "def merge_sort(arr):\n",
    "    if len(arr)<=1:\n",
    "        return arr\n",
    "    mid =len(arr)//2\n",
    "    left=merge_sort(arr[:mid])\n",
    "    right=merge_sort(arr[mid:])\n",
    "    return merge(left,right)\n",
    "def merge(left,right):\n",
    "    result=[]\n",
    "    i=j=0\n",
    "    while i<len(left) and j<len(right):\n",
    "        if left[i] < right[j]:\n",
    "            result.append(left[i])\n",
    "            i+=1\n",
    "        else:\n",
    "            result.append(right[j])\n",
    "            j+=1\n",
    "    result.extend(left[i:])\n",
    "    result.extend(right[j:])\n",
    "    return result\n",
    "arr=[1,3,4,2,66,3,33,2,7]\n",
    "print(merge_sort(arr))\n",
    "            "
   ]
  },
  {
   "cell_type": "markdown",
   "id": "1902086e-3c21-4bac-b8ac-4c8f34733fdb",
   "metadata": {},
   "source": [
    "### linked list:\n"
   ]
  },
  {
   "cell_type": "code",
   "execution_count": 14,
   "id": "7f927fd3-e341-4ab0-93d0-1ea81cbf22b0",
   "metadata": {},
   "outputs": [],
   "source": [
    "class node:\n",
    "    def __init__(self,data):\n",
    "        self.data=data\n",
    "        self.next=node\n",
    "class SLL:\n",
    "    def __init__(self):\n",
    "        self.head=None\n",
    "n1=node(10)\n",
    "n2=node(20)\n",
    "n1.next=n2\n",
    "sll=SLL()\n",
    "sll.head=n1\n",
    "n3=node(30)\n",
    "n2.next=n3\n",
    "\n",
    "        "
   ]
  },
  {
   "cell_type": "code",
   "execution_count": 17,
   "id": "864c07d6-17cc-4b10-852c-74f18949dc49",
   "metadata": {
    "scrolled": true
   },
   "outputs": [
    {
     "name": "stdout",
     "output_type": "stream",
     "text": [
      "\n",
      "\n",
      "\n",
      "\n"
     ]
    },
    {
     "ename": "AttributeError",
     "evalue": "type object 'node' has no attribute 'next'",
     "output_type": "error",
     "traceback": [
      "\u001b[1;31m---------------------------------------------------------------------------\u001b[0m",
      "\u001b[1;31mAttributeError\u001b[0m                            Traceback (most recent call last)",
      "Cell \u001b[1;32mIn[17], line 53\u001b[0m\n\u001b[0;32m     51\u001b[0m sll\u001b[38;5;241m.\u001b[39minsert_begin(\u001b[38;5;241m5\u001b[39m)\n\u001b[0;32m     52\u001b[0m sll\u001b[38;5;241m.\u001b[39minsert_begin(\u001b[38;5;241m55\u001b[39m)\n\u001b[1;32m---> 53\u001b[0m sll\u001b[38;5;241m.\u001b[39minsert_end(\u001b[38;5;241m2\u001b[39m)\n\u001b[0;32m     54\u001b[0m sll\u001b[38;5;241m.\u001b[39minsert_any(\u001b[38;5;241m2\u001b[39m,\u001b[38;5;241m3\u001b[39m)\n\u001b[0;32m     55\u001b[0m sll\u001b[38;5;241m.\u001b[39mTraversal\n",
      "Cell \u001b[1;32mIn[17], line 24\u001b[0m, in \u001b[0;36mSLL.insert_end\u001b[1;34m(self, data)\u001b[0m\n\u001b[0;32m     22\u001b[0m \u001b[38;5;28;01melse\u001b[39;00m:\n\u001b[0;32m     23\u001b[0m     temp\u001b[38;5;241m=\u001b[39m\u001b[38;5;28mself\u001b[39m\u001b[38;5;241m.\u001b[39mhead\n\u001b[1;32m---> 24\u001b[0m     \u001b[38;5;28;01mwhile\u001b[39;00m temp\u001b[38;5;241m.\u001b[39mnext\u001b[38;5;241m!=\u001b[39m\u001b[38;5;28;01mNone\u001b[39;00m:\n\u001b[0;32m     25\u001b[0m         temp\u001b[38;5;241m=\u001b[39mtemp\u001b[38;5;241m.\u001b[39mnext\n\u001b[0;32m     26\u001b[0m     temp\u001b[38;5;241m.\u001b[39mnext\u001b[38;5;241m=\u001b[39mnew1\n",
      "\u001b[1;31mAttributeError\u001b[0m: type object 'node' has no attribute 'next'"
     ]
    }
   ],
   "source": [
    "class node:\n",
    "    def __init__(self,data):\n",
    "        self.data=data\n",
    "        self.next=node\n",
    "class SLL:\n",
    "    def __init__(self):\n",
    "        self.head=None\n",
    "    def insert_begin(self,data):\n",
    "        print()\n",
    "        new=node(data)\n",
    "        if self.head is None:\n",
    "            self.head = new\n",
    "        else:\n",
    "            new.next=self.head\n",
    "            self.head=new\n",
    "\n",
    "    def insert_end(self,data):\n",
    "        print()\n",
    "        new1=node(data)\n",
    "        if self.head is None:\n",
    "            self.head=new1\n",
    "        else:\n",
    "            temp=self.head\n",
    "            while temp.next!=None:\n",
    "                temp=temp.next\n",
    "            temp.next=new1\n",
    "\n",
    "            \n",
    "    def insert_any(self,pos,data):\n",
    "        print()\n",
    "        new2=node(data)\n",
    "        temp=self.head\n",
    "        for i in range(1,pos-1):\n",
    "            temp=temp.next\n",
    "        new2.next=temp.next\n",
    "        temp.next=new2\n",
    "\n",
    "\n",
    "    def Traversal(self):\n",
    "        if self.head is None:\n",
    "            print(\"empty\")\n",
    "        else:\n",
    "            temp=self.head\n",
    "            while temp!=None:\n",
    "                print(temp,data,end=\" ->\")\n",
    "                temp=temp.next\n",
    "sll=SLL()\n",
    "#sll.Traversal()\n",
    "\n",
    "sll.insert_begin(6)\n",
    "sll.insert_begin(5)\n",
    "sll.insert_begin(55)\n",
    "sll.insert_end(2)\n",
    "sll.insert_any(2,3)\n",
    "sll.Traversal        \n",
    "        "
   ]
  },
  {
   "cell_type": "code",
   "execution_count": 18,
   "id": "9e7d3efb-f2f1-4fcb-aa95-5f469e560073",
   "metadata": {},
   "outputs": [
    {
     "name": "stdout",
     "output_type": "stream",
     "text": [
      "55 -> 3 -> 5 -> 6 -> 2 -> None\n"
     ]
    }
   ],
   "source": [
    "class Node:\n",
    "    def __init__(self, data):\n",
    "        self.data = data\n",
    "        self.next = None  # Initially, the next pointer is None\n",
    "\n",
    "\n",
    "class SLL:\n",
    "    def __init__(self):\n",
    "        self.head = None\n",
    "\n",
    "    def insert_begin(self, data):\n",
    "        new_node = Node(data)\n",
    "        new_node.next = self.head\n",
    "        self.head = new_node\n",
    "\n",
    "    def insert_end(self, data):\n",
    "        new_node = Node(data)\n",
    "        if self.head is None:\n",
    "            self.head = new_node\n",
    "        else:\n",
    "            temp = self.head\n",
    "            while temp.next:\n",
    "                temp = temp.next\n",
    "            temp.next = new_node\n",
    "\n",
    "    def insert_any(self, pos, data):\n",
    "        new_node = Node(data)\n",
    "        if pos <= 0:\n",
    "            print(\"Invalid position\")\n",
    "            return\n",
    "\n",
    "        if pos == 1:\n",
    "            new_node.next = self.head\n",
    "            self.head = new_node\n",
    "            return\n",
    "\n",
    "        temp = self.head\n",
    "        count = 1\n",
    "        while temp is not None and count < pos - 1:\n",
    "            temp = temp.next\n",
    "            count += 1\n",
    "\n",
    "        if temp is None:\n",
    "            print(\"Position out of bounds\")\n",
    "            return\n",
    "\n",
    "        new_node.next = temp.next\n",
    "        temp.next = new_node\n",
    "\n",
    "    def traversal(self):\n",
    "        if self.head is None:\n",
    "            print(\"List is empty\")\n",
    "        else:\n",
    "            temp = self.head\n",
    "            while temp:\n",
    "                print(temp.data, end=\" -> \")\n",
    "                temp = temp.next\n",
    "            print(\"None\")  # End of list\n",
    "\n",
    "\n",
    "    def sum_of(self):\n",
    "        s=0\n",
    "        temp=self.head\n",
    "        while temp!=None:\n",
    "            s=s+temp.data\n",
    "            temp=temp.next\n",
    "        print(s)\n",
    "\n",
    "\n",
    "    def count_all(self):\n",
    "        c=0\n",
    "        temp=self.head\n",
    "        while temp!=None:\n",
    "            c+=1\n",
    "            temp=temp.next\n",
    "        print(c)\n",
    "\n",
    "\n",
    "    def sum_even_nodes(self):\n",
    "        t=self.head\n",
    "        s=0\n",
    "        pos=-1\n",
    "        while(t!=None):\n",
    "            if pos%2==0:\n",
    "                s=s+t.data\n",
    "                t=t.next\n",
    "                pos=pos+1\n",
    "        print(s)\n",
    "            \n",
    "\n",
    "\n",
    "    \n",
    "\n",
    "# Create object and test\n",
    "sll = SLL()\n",
    "\n",
    "sll.insert_begin(6)\n",
    "sll.insert_begin(5)\n",
    "sll.insert_begin(55)\n",
    "sll.insert_end(2)\n",
    "sll.insert_any(2, 3)\n",
    "\n",
    "sll.traversal()\n"
   ]
  },
  {
   "cell_type": "code",
   "execution_count": 23,
   "id": "660aee25-a6ce-460e-bb10-f7de915d6ee3",
   "metadata": {},
   "outputs": [],
   "source": [
    "class node:\n",
    "    def __init__(self,data):\n",
    "        self.data=data\n",
    "        self.next=node\n",
    "class SLL:\n",
    "    def __init__(self):\n",
    "        self.head=None\n",
    "        \n",
    "    def delet_bigging(self,head):\n",
    "        if head is None:\n",
    "            return None\n",
    "        temp=head\n",
    "        head=head.next\n",
    "        temp=None\n",
    "        return head\n",
    "        \n",
    "    def delet_per(self,data):\n",
    "        print()\n",
    "        prev=self.head\n",
    "        temp=self.head.next\n",
    "        for i in range(1,pos-1):\n",
    "            temp=temp.next\n",
    "            prev=prev.next\n",
    "        prev.next=temp.next\n",
    "        temp.next=None\n",
    "        \n",
    "        "
   ]
  },
  {
   "cell_type": "code",
   "execution_count": null,
   "id": "f9ac2730-5966-4cf9-8075-9f2a59a8bcf9",
   "metadata": {},
   "outputs": [],
   "source": [
    "#sum of all nodes\n"
   ]
  }
 ],
 "metadata": {
  "kernelspec": {
   "display_name": "Python [conda env:base] *",
   "language": "python",
   "name": "conda-base-py"
  },
  "language_info": {
   "codemirror_mode": {
    "name": "ipython",
    "version": 3
   },
   "file_extension": ".py",
   "mimetype": "text/x-python",
   "name": "python",
   "nbconvert_exporter": "python",
   "pygments_lexer": "ipython3",
   "version": "3.13.5"
  }
 },
 "nbformat": 4,
 "nbformat_minor": 5
}
