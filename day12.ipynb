{
 "cells": [
  {
   "cell_type": "code",
   "execution_count": 3,
   "id": "bc30e9df-843f-4070-b930-719bc4650d2d",
   "metadata": {},
   "outputs": [
    {
     "name": "stdout",
     "output_type": "stream",
     "text": [
      "-17\n"
     ]
    }
   ],
   "source": [
    "#Bingo online lotery\n",
    "v=[-10,-7,-3,4,2]\n",
    "v.sort()\n",
    "prod1=v[-1]*v[-2]\n",
    "prod2=v[0]*v[1]\n",
    "if prod2>prod1:\n",
    "    print(v[0]+v[1])\n",
    "else:\n",
    "    print(v[-1]+v[-2])"
   ]
  },
  {
   "cell_type": "code",
   "execution_count": 5,
   "id": "5a3cc891-6963-417b-ae8a-68adfa20352b",
   "metadata": {},
   "outputs": [
    {
     "name": "stdin",
     "output_type": "stream",
     "text": [
      " a\n",
      " 2\n"
     ]
    },
    {
     "name": "stdout",
     "output_type": "stream",
     "text": [
      "c\n"
     ]
    }
   ],
   "source": [
    "#\n",
    "ch=input()\n",
    "n=int(input())\n",
    "s1='abcdefghijklmnopqrstuvwxyz'\n",
    "s2='ABCDEFGHIJKLMNOPQRSTUVWXYZ'\n",
    "\n",
    "if ch.islower():\n",
    "    idx=s1.index(ch)\n",
    "    res=(idx+n)%26\n",
    "    print(s1[res])\n",
    "\n",
    "    \n",
    "if ch.isupper():\n",
    "    idx=s2.index(ch)\n",
    "    res=(idx+n)%26\n",
    "    print(s2[res])\n"
   ]
  },
  {
   "cell_type": "code",
   "execution_count": 6,
   "id": "b339e921-7e16-4819-bd6a-2117035d2c31",
   "metadata": {},
   "outputs": [
    {
     "name": "stdin",
     "output_type": "stream",
     "text": [
      " 6 30 50\n",
      " 29 28 12 48 39 55\n"
     ]
    },
    {
     "name": "stdout",
     "output_type": "stream",
     "text": [
      "[48, 39]\n"
     ]
    }
   ],
   "source": [
    "#\n",
    "n,l,h=map(int,input().split())\n",
    "arr=list(map(int,input().split()))\n",
    "res=[x for x in arr if l<= x <= h]\n",
    "print(res)\n"
   ]
  },
  {
   "cell_type": "code",
   "execution_count": 7,
   "id": "a4572061-f097-4623-aa80-d67b1cea7e0a",
   "metadata": {},
   "outputs": [
    {
     "name": "stdout",
     "output_type": "stream",
     "text": [
      "defaultdict(<class 'list'>, {'A': ['B', 'C'], 'B': ['B', 'D'], 'D': ['D'], 'C': ['C', 'E'], 'E': ['E', 'F'], 'F': ['F']})\n"
     ]
    }
   ],
   "source": [
    "from collections import defaultdict\n",
    "edges=[['A','B'],['B','D'],['A','C'],['C','E'],['E','F']]\n",
    "adj_list=defaultdict(list)\n",
    "for u,v in edges:\n",
    "    adj_list[u].append(v)\n",
    "    adj_list[v].append(v)\n",
    "print(adj_list)"
   ]
  },
  {
   "cell_type": "code",
   "execution_count": 10,
   "id": "87833922-7238-4a4e-9eba-4c6d25fb3c88",
   "metadata": {},
   "outputs": [
    {
     "name": "stdout",
     "output_type": "stream",
     "text": [
      "A B C D E F "
     ]
    }
   ],
   "source": [
    "def BFS(graph,start):\n",
    "    visited=set()\n",
    "    q=[start]\n",
    "    while q:\n",
    "        n=q.pop(0)\n",
    "        if n not in visited:\n",
    "            print(n,end=\" \")\n",
    "            visited.add(n)\n",
    "            q.extend(graph[n])\n",
    "graph={\n",
    "    'A':['B','C'],\n",
    "    'B':['A','D','E'],\n",
    "    'C':['A','F'],\n",
    "    'D':['B'],\n",
    "    'E':['B','F'],\n",
    "    'F':['C','E']\n",
    "}\n",
    "BFS(graph,'A')"
   ]
  },
  {
   "cell_type": "code",
   "execution_count": 11,
   "id": "94345f99-7a7a-4982-bd64-c528572cc199",
   "metadata": {},
   "outputs": [
    {
     "name": "stdout",
     "output_type": "stream",
     "text": [
      "ABDEFC"
     ]
    }
   ],
   "source": [
    "#DFS\n",
    "def dfs(graph,n,visited=set()):\n",
    "    if n not in visited:\n",
    "        print(n,end=\"\")\n",
    "        visited.add(n)\n",
    "        for i in graph[n]:\n",
    "            dfs(graph,i,visited)\n",
    "graph={\n",
    "    'A':['B','C'],\n",
    "    'B':['A','D','E'],\n",
    "    'C':['A','F'],\n",
    "    'D':['B'],\n",
    "    'E':['B','F'],\n",
    "    'F':['C','E']\n",
    "}\n",
    "dfs(graph,'A')"
   ]
  },
  {
   "cell_type": "code",
   "execution_count": null,
   "id": "92283f5d-a78d-42cc-bb9b-e9f112bf3c81",
   "metadata": {},
   "outputs": [],
   "source": []
  }
 ],
 "metadata": {
  "kernelspec": {
   "display_name": "Python [conda env:base] *",
   "language": "python",
   "name": "conda-base-py"
  },
  "language_info": {
   "codemirror_mode": {
    "name": "ipython",
    "version": 3
   },
   "file_extension": ".py",
   "mimetype": "text/x-python",
   "name": "python",
   "nbconvert_exporter": "python",
   "pygments_lexer": "ipython3",
   "version": "3.13.5"
  }
 },
 "nbformat": 4,
 "nbformat_minor": 5
}
