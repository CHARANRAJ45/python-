{
 "cells": [
  {
   "cell_type": "markdown",
   "id": "c13a054a-5f9a-41ae-9660-8a4fe6341e02",
   "metadata": {},
   "source": [
    "# OOPS CONCEPT\n",
    ">Class  :  blue print of class\n",
    ">Object :  realword entity,inestanc of class\n",
    ">Method :  objects behavior  are methods\n",
    ">Attributes : properties of objects"
   ]
  },
  {
   "cell_type": "markdown",
   "id": "33ef37d2-940c-4725-b21a-8d1358d8a9a9",
   "metadata": {},
   "source": [
    "### ENCAPSULATION\n",
    "wrapping of class or methods attributes or object in single unit class\n",
    "### ABSTRACTION\n",
    "hideing unnesseceray data from user\n",
    "### POLYMORPHISM\n",
    "one in many forms\n",
    "4 types\n",
    "### INHERITENCE\n",
    "inherting properties from one class to other class\n",
    "reusabitity of code"
   ]
  },
  {
   "cell_type": "code",
   "execution_count": 7,
   "id": "89f166ab-af3d-4cca-a53b-9584ab06227f",
   "metadata": {},
   "outputs": [
    {
     "name": "stdout",
     "output_type": "stream",
     "text": [
      "gt 650cc\n",
      "gt 650cc\n"
     ]
    }
   ],
   "source": [
    "class bikes:\n",
    "    def pre(self):\n",
    "        print(\"gt\",\"650cc\")\n",
    "gt=bikes()\n",
    "duck=bikes()\n",
    "duck.pre()\n",
    "gt.pre()"
   ]
  },
  {
   "cell_type": "code",
   "execution_count": 4,
   "id": "cf8d2b21-9891-4a55-b926-49056d61a630",
   "metadata": {},
   "outputs": [
    {
     "name": "stdout",
     "output_type": "stream",
     "text": [
      " car details bmw m2 80 v8\n"
     ]
    }
   ],
   "source": [
    "class car:\n",
    "    def __init__(self,brand,model,price,engien):\n",
    "        self.brand=brand\n",
    "        self.model=model\n",
    "        self.price=price\n",
    "        self.engien=engien\n",
    "    def pre(self):\n",
    "        print(\" car details\",self.brand,self.model,self.price,self.engien)\n",
    "c1=car(\"bmw\",\"m2\",80,\"v8\")\n",
    "c1.pre()"
   ]
  },
  {
   "cell_type": "code",
   "execution_count": 16,
   "id": "5b04cd00-ab10-438f-8a06-952a2131c29a",
   "metadata": {},
   "outputs": [
    {
     "name": "stdout",
     "output_type": "stream",
     "text": [
      "4\n",
      "4\n",
      "9\n",
      "4\n",
      "4\n",
      "None\n",
      "12\n"
     ]
    }
   ],
   "source": [
    "class cars:\n",
    "    wheels=4\n",
    "    def __init__(self,mil,car):\n",
    "        self.mil=mil\n",
    "        self.car=car\n",
    "    def get_mil(self):\n",
    "        return c1.mil\n",
    "    def set_mil(self):\n",
    "        c1.mil=12\n",
    "    @staticmethod\n",
    "    def info(self):\n",
    "        print(\"hi hello\")\n",
    "    @classmethod\n",
    "    def infor(cls):\n",
    "        return cls.wheels\n",
    "print(cars.infor())\n",
    "\n",
    "c1=cars(4,\"bmw\")\n",
    "c2=cars(10,\"gmv\")\n",
    "c1.wheels=9\n",
    "print(c1.mil)\n",
    "print(c1.wheels)\n",
    "print(c2.wheels)\n",
    "print(c1.get_mil())\n",
    "print(c1.set_mil())\n",
    "print(c1.mil)"
   ]
  },
  {
   "cell_type": "code",
   "execution_count": 18,
   "id": "5e5885eb-2348-4ba4-875d-9051fc18afe1",
   "metadata": {},
   "outputs": [
    {
     "name": "stdout",
     "output_type": "stream",
     "text": [
      "compiling\n",
      "runing\n"
     ]
    }
   ],
   "source": [
    "class pycharm:\n",
    "    def execute(self):\n",
    "        print(\"compiling\")\n",
    "        print(\"runing\")\n",
    "class myeditor:\n",
    "    def execute(self):\n",
    "        print(\"debugging\")\n",
    "        print(\"printing error\")\n",
    "        print(\"compiling\")\n",
    "        print(\"running\")\n",
    "class laptop:\n",
    "    def code(self,ide):\n",
    "        ide.execute()\n",
    "ide=pycharm()\n",
    "lap1=laptop()\n",
    "lap1.code(ide)"
   ]
  },
  {
   "cell_type": "code",
   "execution_count": 4,
   "id": "cd63f6dc-5c23-4573-9e0f-9ef478e80675",
   "metadata": {},
   "outputs": [
    {
     "name": "stdout",
     "output_type": "stream",
     "text": [
      "126\n",
      "150\n",
      "s2 is having more marks then s1\n"
     ]
    }
   ],
   "source": [
    "class student:\n",
    "    def __init__(self,m1,m2):\n",
    "        self.m1=m1\n",
    "        self.m2=m2\n",
    "    def __add__(self,other):\n",
    "        m1=self.m1+other.m1\n",
    "        m2=self.m2+other.m2\n",
    "        s3=student(m1,m2)\n",
    "        return s3\n",
    "\n",
    "\n",
    "    def __gt__(self,other):\n",
    "        r1=self.m1+self.m2\n",
    "        r2=other.m1+other.m2\n",
    "        if r1>r2:\n",
    "            return True\n",
    "        else:\n",
    "            return False\n",
    "s1=student(59,65)\n",
    "s2=student(67,85)\n",
    "s3=s1+s2\n",
    "print(s3.m1)\n",
    "print(s3.m2)\n",
    "if s1>s2:\n",
    "    print(\"s1 is having more marks then s2\")\n",
    "else:\n",
    "    print(\"s2 is having more marks then s1\")\n",
    "        "
   ]
  },
  {
   "cell_type": "code",
   "execution_count": 6,
   "id": "a18abf85-5c84-4758-a159-45802a6604c4",
   "metadata": {},
   "outputs": [
    {
     "name": "stdout",
     "output_type": "stream",
     "text": [
      "5\n",
      "15\n",
      "0\n"
     ]
    }
   ],
   "source": [
    "## method overloding\n",
    "class math:\n",
    "    def add(self,a=0,b=0,c=0):\n",
    "        return a+b+c\n",
    "m=math()\n",
    "print(m.add(2,3))\n",
    "print(m.add(6,3,6))\n",
    "print(m.add())"
   ]
  },
  {
   "cell_type": "code",
   "execution_count": 8,
   "id": "97e45cf2-9b6e-48cb-89ab-10ed0c45744d",
   "metadata": {},
   "outputs": [
    {
     "name": "stdout",
     "output_type": "stream",
     "text": [
      "animals make different sounds\n",
      "dog barks\n"
     ]
    }
   ],
   "source": [
    "##INHERITANCE\n",
    "# singal level hineritance\n",
    "class animal:\n",
    "    def sound(self):\n",
    "        return \"animals make different sounds\"\n",
    "class dog(animal):\n",
    "    def s(self):\n",
    "        return \"dog barks\"\n",
    "d=dog()\n",
    "print(d.sound())\n",
    "print(d.s())"
   ]
  },
  {
   "cell_type": "code",
   "execution_count": 9,
   "id": "e6d6b271-b3a8-4376-961d-f9b8ac9e53d2",
   "metadata": {},
   "outputs": [
    {
     "name": "stdout",
     "output_type": "stream",
     "text": [
      "this is engine\n",
      "this is car\n",
      "car has 4 wheels\n"
     ]
    }
   ],
   "source": [
    "#multi:\n",
    "class engine:\n",
    "    def engine_info(self):\n",
    "        return \"this is engine\"\n",
    "class wheels:\n",
    "    def wheels_info(self):\n",
    "        return \"car has 4 wheels\"\n",
    "\n",
    "class car(engine,wheels):\n",
    "    def car_info(self):\n",
    "        return \"this is car\"\n",
    "\n",
    "c=car()\n",
    "print(c.engine_info())\n",
    "print(c.car_info())\n",
    "print(c.wheels_info())"
   ]
  },
  {
   "cell_type": "code",
   "execution_count": 11,
   "id": "c635c2c6-e686-4b2b-8bb5-788b6d95f62c",
   "metadata": {},
   "outputs": [
    {
     "name": "stdout",
     "output_type": "stream",
     "text": [
      "this is animal\n",
      "this is mammal\n",
      "humans can speak\n"
     ]
    }
   ],
   "source": [
    "#multilevel\n",
    "\n",
    "class animal:\n",
    "    def species(self):\n",
    "        return \"this is animal\"\n",
    "class mammal(animal):\n",
    "    def category(self):\n",
    "        return \"this is mammal\"\n",
    "\n",
    "class human(mammal):\n",
    "    def speak(self):\n",
    "        return \"humans can speak\"\n",
    "\n",
    "h=human()\n",
    "print(h.species())\n",
    "print(h.category())\n",
    "print(h.speak())"
   ]
  },
  {
   "cell_type": "code",
   "execution_count": 12,
   "id": "813de7fd-deb1-43ad-b66f-a2a33a302e19",
   "metadata": {},
   "outputs": [
    {
     "name": "stdout",
     "output_type": "stream",
     "text": [
      "vechicle can use both petrol or desial\n",
      "car is 4 wheels\n",
      "bile has 2 wheels\n"
     ]
    }
   ],
   "source": [
    "#hierarchical\n",
    "\n",
    "class vechicle:\n",
    "    def fuel(self):\n",
    "        return \"vechicle can use both petrol or desial\"\n",
    "\n",
    "class car(vechicle):\n",
    "    def type(self):\n",
    "        return \"car is 4 wheels\"\n",
    "class bike(vechicle):\n",
    "    def type(self):\n",
    "        return \"bile has 2 wheels\"\n",
    "\n",
    "c=car()\n",
    "b=bike()\n",
    "print(c.fuel())\n",
    "print(c.type())\n",
    "print(b.type())"
   ]
  },
  {
   "cell_type": "code",
   "execution_count": 17,
   "id": "d2966d92-91ff-4c9b-89e8-13fc1a9ccfa8",
   "metadata": {},
   "outputs": [
    {
     "name": "stdout",
     "output_type": "stream",
     "text": [
      "method of a\n",
      "method of b\n",
      "method of c\n",
      "method of d\n"
     ]
    }
   ],
   "source": [
    "#hybrid\n",
    "class a:\n",
    "    def method_a(self):\n",
    "        return \"method of a\"\n",
    "class b(a):\n",
    "    def method_b(self):\n",
    "        return \"method of b\"\n",
    "class c(a):\n",
    "    def method_c(self):\n",
    "        return \"method of c\"\n",
    "class d(b,c):\n",
    "    def method_d(self):\n",
    "        return \"method of d\"\n",
    "\n",
    "x=d()\n",
    "print(x.method_a())\n",
    "print(x.method_b())\n",
    "print(x.method_c())\n",
    "print(x.method_d())"
   ]
  },
  {
   "cell_type": "code",
   "execution_count": null,
   "id": "226c450a-8320-4f51-a4af-6a41de15e2df",
   "metadata": {},
   "outputs": [],
   "source": []
  },
  {
   "cell_type": "code",
   "execution_count": null,
   "id": "1b90f97d-da4f-4eda-868f-2d22b37e4905",
   "metadata": {},
   "outputs": [],
   "source": [
    "from abstract_class import vechile\n",
    "class bike(vechile):\n",
    "    def __init__(self,n,color):\n",
    "        super().__init__(n)\n",
    "        self.color=color\n",
    "    def start(self):\n",
    "        print(\"start with kick\")\n",
    "class scooty(vechile):\n",
    "    def start(self):\n",
    "        print(\"self start\")\n",
    "class car(vechile):\n",
    "    def __init__(self,n,x):\n",
    "        super.__init__(n)\n",
    "        self.no_of_geares=6\n",
    "    def start(self):\n",
    "        print(\"start with key\")"
   ]
  },
  {
   "cell_type": "code",
   "execution_count": 19,
   "id": "b7eea21a-64b8-47a3-ae82-9d71b18d55c7",
   "metadata": {
    "collapsed": true,
    "jupyter": {
     "outputs_hidden": true
    }
   },
   "outputs": [
    {
     "ename": "NameError",
     "evalue": "name 'black' is not defined",
     "output_type": "error",
     "traceback": [
      "\u001b[1;31m---------------------------------------------------------------------------\u001b[0m",
      "\u001b[1;31mNameError\u001b[0m                                 Traceback (most recent call last)",
      "Cell \u001b[1;32mIn[19], line 2\u001b[0m\n\u001b[0;32m      1\u001b[0m \u001b[38;5;66;03m#from abstractio_example import *\u001b[39;00m\n\u001b[1;32m----> 2\u001b[0m bike\u001b[38;5;241m=\u001b[39mbike(\u001b[38;5;241m2\u001b[39m,black)\n\u001b[0;32m      3\u001b[0m bike\u001b[38;5;241m.\u001b[39mstart()\n\u001b[0;32m      4\u001b[0m scooty\u001b[38;5;241m=\u001b[39mscooty(\u001b[38;5;241m2\u001b[39m)\n",
      "\u001b[1;31mNameError\u001b[0m: name 'black' is not defined"
     ]
    }
   ],
   "source": [
    "from abstractio_example import *\n",
    "bike=bike(2,black)\n",
    "bike.start()\n",
    "scooty=scooty(2)\n",
    "scooty.start()"
   ]
  },
  {
   "cell_type": "code",
   "execution_count": null,
   "id": "e023d645-893e-4016-9c27-7d68940ec45d",
   "metadata": {},
   "outputs": [],
   "source": [
    "from abc import ABC,abstractmethod\n",
    "class vechile(ABC):\n",
    "    def __init__(self,n):\n",
    "        self.no_of_tyers=n\n",
    "    @abstractmethod\n",
    "    def start(self):\n",
    "        pass\n",
    "    def manfac(self):\n",
    "        pass\n",
    "    def display(self):\n",
    "        print(\"hi i am calling from vehile\")"
   ]
  },
  {
   "cell_type": "markdown",
   "id": "5b8f9878-95ae-4fbb-9587-e13b792f8f51",
   "metadata": {},
   "source": [
    "### searching alg:\n",
    "### 1 linear search\n",
    "### 2 binary search\n"
   ]
  },
  {
   "cell_type": "markdown",
   "id": "ffd13be1-6ef9-4c28-a248-bd31e413cef1",
   "metadata": {},
   "source": [
    "### Linear search"
   ]
  },
  {
   "cell_type": "code",
   "execution_count": 1,
   "id": "c931ac91-a529-4cce-850e-f0f4bdd0a489",
   "metadata": {},
   "outputs": [
    {
     "name": "stdout",
     "output_type": "stream",
     "text": [
      "found\n"
     ]
    }
   ],
   "source": [
    "arr=[7,2,2,1,4,5,7,3]\n",
    "key=3\n",
    "for i in range(len(arr)):\n",
    "    if (arr[i]==key):\n",
    "        print(\"found\")\n",
    "        break\n",
    "else:\n",
    "    print(\"not found\")"
   ]
  },
  {
   "cell_type": "code",
   "execution_count": 4,
   "id": "252e9581-4f7b-4ab0-8ae4-c6f7f6272837",
   "metadata": {},
   "outputs": [
    {
     "name": "stdin",
     "output_type": "stream",
     "text": [
      " 2\n"
     ]
    },
    {
     "name": "stdout",
     "output_type": "stream",
     "text": [
      "key found 1\n"
     ]
    }
   ],
   "source": [
    "def search(list1,key):\n",
    "    for i in range(len(list1)):\n",
    "        if key==list1[i]:\n",
    "            print(\"key found\",i)\n",
    "            break\n",
    "    else:\n",
    "        print(\"not found\")\n",
    "list1=[7,2,2,1,4,5,7,3]\n",
    "key=int(input())\n",
    "search(list1,key)"
   ]
  },
  {
   "cell_type": "markdown",
   "id": "e71d5f8f-50c3-4f03-af3e-fcad64376bb5",
   "metadata": {},
   "source": [
    "### Binary search"
   ]
  },
  {
   "cell_type": "code",
   "execution_count": 5,
   "id": "ae9361ac-0800-4fb6-b27d-56d5ec525102",
   "metadata": {
    "collapsed": true,
    "jupyter": {
     "outputs_hidden": true
    }
   },
   "outputs": [
    {
     "name": "stdin",
     "output_type": "stream",
     "text": [
      " 4\n"
     ]
    },
    {
     "ename": "IndexError",
     "evalue": "list index out of range",
     "output_type": "error",
     "traceback": [
      "\u001b[1;31m---------------------------------------------------------------------------\u001b[0m",
      "\u001b[1;31mIndexError\u001b[0m                                Traceback (most recent call last)",
      "Cell \u001b[1;32mIn[5], line 17\u001b[0m\n\u001b[0;32m     15\u001b[0m arr\u001b[38;5;241m=\u001b[39m[\u001b[38;5;241m1\u001b[39m,\u001b[38;5;241m2\u001b[39m,\u001b[38;5;241m3\u001b[39m,\u001b[38;5;241m4\u001b[39m,\u001b[38;5;241m5\u001b[39m,\u001b[38;5;241m6\u001b[39m,\u001b[38;5;241m7\u001b[39m,\u001b[38;5;241m9\u001b[39m,\u001b[38;5;241m10\u001b[39m]\n\u001b[0;32m     16\u001b[0m key\u001b[38;5;241m=\u001b[39m\u001b[38;5;28mint\u001b[39m(\u001b[38;5;28minput\u001b[39m())\n\u001b[1;32m---> 17\u001b[0m binary_search(arr,key)\n",
      "Cell \u001b[1;32mIn[5], line 7\u001b[0m, in \u001b[0;36mbinary_search\u001b[1;34m(arr, key)\u001b[0m\n\u001b[0;32m      5\u001b[0m \u001b[38;5;28;01mwhile\u001b[39;00m l\u001b[38;5;241m<\u001b[39m\u001b[38;5;241m=\u001b[39mh:\n\u001b[0;32m      6\u001b[0m     m\u001b[38;5;241m=\u001b[39m(l\u001b[38;5;241m+\u001b[39mh)\u001b[38;5;241m/\u001b[39m\u001b[38;5;241m/\u001b[39m\u001b[38;5;241m2\u001b[39m\n\u001b[1;32m----> 7\u001b[0m     \u001b[38;5;28;01mif\u001b[39;00m nums[m]\u001b[38;5;241m==\u001b[39mkey:\n\u001b[0;32m      8\u001b[0m         r\u001b[38;5;241m=\u001b[39mm\n\u001b[0;32m      9\u001b[0m         \u001b[38;5;28;01mreturn\u001b[39;00m r\n",
      "\u001b[1;31mIndexError\u001b[0m: list index out of range"
     ]
    }
   ],
   "source": [
    "def binary_search(arr,key):\n",
    "    l=0\n",
    "    h=len(arr)-1\n",
    "    r=-1\n",
    "    while l<=h:\n",
    "        m=(l+h)//2\n",
    "        if nums[m]==key:\n",
    "            r=m\n",
    "            return r\n",
    "            break\n",
    "        elif nums[m]<key:\n",
    "            l=m+1\n",
    "        else:\n",
    "            h=m-1\n",
    "arr=[1,2,3,4,5,6,7,9,10]\n",
    "key=int(input())\n",
    "binary_search(arr,key)"
   ]
  },
  {
   "cell_type": "code",
   "execution_count": 11,
   "id": "2989b1be-4ffa-4d77-aaf9-922044be924c",
   "metadata": {},
   "outputs": [
    {
     "name": "stdout",
     "output_type": "stream",
     "text": [
      "3\n"
     ]
    }
   ],
   "source": [
    "nums=[1,3,4,5]\n",
    "t=5\n",
    "l,h=0,len(nums)-1\n",
    "r=-1\n",
    "while l<=h:\n",
    "    m=(l+h)//2\n",
    "    if nums[m]==t:\n",
    "        r=m\n",
    "        break\n",
    "    elif nums[m]<t:\n",
    "        l=m+1\n",
    "    else:\n",
    "        h=m-1\n",
    "print(r)      "
   ]
  },
  {
   "cell_type": "code",
   "execution_count": 2,
   "id": "2e7da055-b945-48dd-ab96-60f10d82214d",
   "metadata": {},
   "outputs": [
    {
     "name": "stdout",
     "output_type": "stream",
     "text": [
      "first\n",
      "3\n"
     ]
    }
   ],
   "source": [
    "nums=[1,1,2,3,3]\n",
    "t=3\n",
    "l,h=0,len(nums)-1\n",
    "r=-1\n",
    "while l<=h:\n",
    "    m=(l+h)//2\n",
    "    if nums[m]==t:\n",
    "        r=m\n",
    "        print(\"first\")\n",
    "        break\n",
    "    elif nums[m]<t:\n",
    "        l=m+1\n",
    "    else:\n",
    "        h=m-1\n",
    "print(r) "
   ]
  },
  {
   "cell_type": "code",
   "execution_count": 1,
   "id": "c638f8b4-dc3c-4778-9abf-37e7b20a0c8e",
   "metadata": {},
   "outputs": [
    {
     "name": "stdout",
     "output_type": "stream",
     "text": [
      "First occurrence of 2 is at index: 1\n",
      "Last occurrence of 2 is at index: 3\n"
     ]
    }
   ],
   "source": [
    "def first_occurrence(arr, target):\n",
    "    low, high = 0, len(arr) - 1\n",
    "    result = -1 \n",
    "    while low <= high:\n",
    "        mid = (low + high) // 2\n",
    "        if arr[mid] == target:\n",
    "            result = mid\n",
    "            high = mid - 1  # move left to find earlier occurrence\n",
    "        elif arr[mid] < target:\n",
    "            low = mid + 1\n",
    "        else:\n",
    "            high = mid - 1\n",
    "    return result\n",
    "\n",
    "\n",
    "def last_occurrence(arr, target):\n",
    "    low, high = 0, len(arr) - 1\n",
    "    result = -1\n",
    "    while low <= high:\n",
    "        mid = (low + high) // 2\n",
    "        if arr[mid] == target:\n",
    "            result = mid\n",
    "            low = mid + 1  # move right to find later occurrence\n",
    "        elif arr[mid] < target:\n",
    "            low = mid + 1\n",
    "        else:\n",
    "            high = mid - 1\n",
    "    return result\n",
    "arr = [1, 2, 2, 2, 3, 4, 5, 5, 6]\n",
    "x = 2\n",
    "\n",
    "first = first_occurrence(arr, x)\n",
    "last = last_occurrence(arr, x)\n",
    "\n",
    "print(\"First occurrence of\", x, \"is at index:\", first)\n",
    "print(\"Last occurrence of\", x, \"is at index:\", last)\n"
   ]
  },
  {
   "cell_type": "code",
   "execution_count": 6,
   "id": "724b1d80-0575-4a4c-9b01-dbf5d1c1ad56",
   "metadata": {},
   "outputs": [
    {
     "name": "stdout",
     "output_type": "stream",
     "text": [
      "Minimum element is: 0\n"
     ]
    }
   ],
   "source": [
    "def roted(arr):\n",
    "    l,h=0,len(arr)-1\n",
    "    while l<h:\n",
    "        m=(l+h)//2\n",
    "        if arr[m]>arr[h]:\n",
    "            l=m+1\n",
    "        else:\n",
    "            h=m\n",
    "    return arr[l]\n",
    "arr = [4, 5, 6, 7, 0, 1, 2]\n",
    "print(\"Minimum element is:\",roted(arr))"
   ]
  },
  {
   "cell_type": "code",
   "execution_count": 9,
   "id": "6cf583bd-f600-47b7-9eef-80983afd027a",
   "metadata": {},
   "outputs": [
    {
     "name": "stdout",
     "output_type": "stream",
     "text": [
      "peak: (0, 4)\n"
     ]
    }
   ],
   "source": [
    "def peak(arr):\n",
    "    l,h=0,len(arr)-1\n",
    "    while l<h:\n",
    "        m=(l+h)//2\n",
    "        if arr[m]>arr[m+l]:\n",
    "            l=m+1\n",
    "        else:\n",
    "            h=m\n",
    "    return l,arr[l]\n",
    "arr = [4,5,6,9,1,2]\n",
    "print(\"peak:\",peak(arr))"
   ]
  },
  {
   "cell_type": "code",
   "execution_count": 2,
   "id": "9963ef9b-57f4-494f-8c73-8ea91043147f",
   "metadata": {},
   "outputs": [
    {
     "name": "stdout",
     "output_type": "stream",
     "text": [
      "2\n"
     ]
    }
   ],
   "source": [
    "nums=[1,2,3,1]\n",
    "l,h=0,len(nums)-1\n",
    "while l<h:\n",
    "    m=(l+h)//2\n",
    "    if nums[m]<nums[m+1]:\n",
    "        l=m+1\n",
    "    else:\n",
    "        h=m\n",
    "print(l)"
   ]
  },
  {
   "cell_type": "code",
   "execution_count": null,
   "id": "231f68a9-2e39-4f4d-8f59-27b2b6dff891",
   "metadata": {},
   "outputs": [],
   "source": []
  },
  {
   "cell_type": "code",
   "execution_count": null,
   "id": "854621e5-f2ec-473b-b6e2-606e2895d05e",
   "metadata": {},
   "outputs": [],
   "source": []
  }
 ],
 "metadata": {
  "kernelspec": {
   "display_name": "Python [conda env:base] *",
   "language": "python",
   "name": "conda-base-py"
  },
  "language_info": {
   "codemirror_mode": {
    "name": "ipython",
    "version": 3
   },
   "file_extension": ".py",
   "mimetype": "text/x-python",
   "name": "python",
   "nbconvert_exporter": "python",
   "pygments_lexer": "ipython3",
   "version": "3.13.5"
  }
 },
 "nbformat": 4,
 "nbformat_minor": 5
}
