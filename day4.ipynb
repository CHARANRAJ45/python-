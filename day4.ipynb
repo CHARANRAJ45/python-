{
 "cells": [
  {
   "cell_type": "code",
   "execution_count": 9,
   "id": "f8bef73b-3baa-48f1-8a30-6b69ff2d22a0",
   "metadata": {},
   "outputs": [
    {
     "name": "stdin",
     "output_type": "stream",
     "text": [
      " 1\n"
     ]
    },
    {
     "name": "stdout",
     "output_type": "stream",
     "text": [
      "False\n"
     ]
    }
   ],
   "source": [
    "n=int(input())\n",
    "#for i in range(n):\n",
    "if 2^i==n:\n",
    "    print(True)\n",
    "else:\n",
    "    print(False)"
   ]
  },
  {
   "cell_type": "code",
   "execution_count": 10,
   "id": "5813a36f-12aa-4c44-9b20-326eb9d554f0",
   "metadata": {},
   "outputs": [
    {
     "name": "stdout",
     "output_type": "stream",
     "text": [
      "1 1\n",
      "1 2\n",
      "2 1\n",
      "2 2\n",
      "3 1\n",
      "3 2\n",
      "4 1\n",
      "4 2\n"
     ]
    }
   ],
   "source": [
    "for i in range(1,5):\n",
    "    for j in range(1,5):\n",
    "        if j==3:\n",
    "            break\n",
    "        print(i,j)"
   ]
  },
  {
   "cell_type": "code",
   "execution_count": 11,
   "id": "0ae3328c-8217-4fd2-9860-5b7a6942aef9",
   "metadata": {},
   "outputs": [
    {
     "name": "stdout",
     "output_type": "stream",
     "text": [
      "1\n",
      "2\n"
     ]
    }
   ],
   "source": [
    "c=0\n",
    "while c<5:\n",
    "    c+=1\n",
    "    if c==3:\n",
    "        break\n",
    "    print(c)\n",
    "\n",
    "                "
   ]
  },
  {
   "cell_type": "markdown",
   "id": "c15aea63-17ef-465b-a656-c8c7473b0119",
   "metadata": {},
   "source": [
    "encoded "
   ]
  },
  {
   "cell_type": "code",
   "execution_count": 18,
   "id": "c7efe2cc-2d18-491a-bfa8-aad536570be2",
   "metadata": {},
   "outputs": [
    {
     "name": "stdout",
     "output_type": "stream",
     "text": [
      "[1, 0, 2, 1]\n"
     ]
    }
   ],
   "source": [
    "encode=[1,2,3]\n",
    "a=[1]\n",
    "for i in encode:\n",
    "    a.append(a[i-1]^i)\n",
    "print(a)"
   ]
  },
  {
   "cell_type": "markdown",
   "id": "7c40abea-f29d-4ed1-a964-eb4c66a78b60",
   "metadata": {},
   "source": [
    "TUPLE"
   ]
  },
  {
   "cell_type": "code",
   "execution_count": 21,
   "id": "915f3f4e-b50f-4bed-b327-02e9b02bf1d3",
   "metadata": {},
   "outputs": [
    {
     "name": "stdin",
     "output_type": "stream",
     "text": [
      " 1 2 3 4 \n",
      " 2\n"
     ]
    },
    {
     "name": "stdout",
     "output_type": "stream",
     "text": [
      "(1, 3, 4)\n"
     ]
    }
   ],
   "source": [
    "t=tuple(map(int,input().split()))\n",
    "i = int(input())\n",
    "new=t[:n]+t[n+1:]\n",
    "print(new)\n",
    "\n"
   ]
  },
  {
   "cell_type": "code",
   "execution_count": 22,
   "id": "2ea9852e-f587-4bca-b120-f8a1b3ac408e",
   "metadata": {},
   "outputs": [
    {
     "name": "stdout",
     "output_type": "stream",
     "text": [
      "(1, 2, 4)\n"
     ]
    }
   ],
   "source": [
    "t=(1,2,3,4)\n",
    "list=list(t)\n",
    "list.remove(3)\n",
    "t1=tuple(list)\n",
    "print(t1)"
   ]
  },
  {
   "cell_type": "code",
   "execution_count": 26,
   "id": "44d83f62-0e7f-49d4-941b-1f62785065f0",
   "metadata": {},
   "outputs": [
    {
     "name": "stdout",
     "output_type": "stream",
     "text": [
      "3 9\n"
     ]
    }
   ],
   "source": [
    "t=(1,2,3,4,4,4,3,3,3)\n",
    "c=0\n",
    "for i in t:\n",
    "    t.count(i)\n",
    "    c+=1\n",
    "if c>2:\n",
    "    print(i,c)"
   ]
  },
  {
   "cell_type": "markdown",
   "id": "21608e18-a621-4492-b4fb-769de02b37f4",
   "metadata": {},
   "source": [
    "SET\n",
    " >UNORDERD COLLECTION DATA TYPE\n",
    "  > THERE IS NO INDEX:\n",
    "> MODIFING THE SET USING INDEX IS NOT POSSIBLE\n",
    "> USE DEL WORD\n",
    "> CREATE A SET: USING TUPLE  LIST USING SET KEY WORD\n",
    "> METHODS:\n",
    "      > ADD:IT DOES IN RANDOM POSTION\n",
    "      > UPDATE:a.update(b)\n",
    "      > COPY\n",
    "      > DEL\n",
    ">REMOVE:>DISCARD:>POP\n",
    ">UNION:COMBINING ALL ELEMENT( | )\n",
    ">INTRERSECTION :COMMON ELEMENT ( & ) INTERSECTION UPDATE\n",
    ">\n",
    ">DIFFERENCE:( - )\n",
    ">SYMATRIC DIFFERENCE: UNCOOMON ELEMENT ( ^ )\n",
    ">SYMATRIC UPDATE\n",
    ">SUM MAX MIN LEN\n",
    ">ANY ALL SORT\n",
    ">\n",
    "FROZEN SET:\n",
    ">SET ARE IMMUTABLE\n",
    ">CREATED USING frozenset()"
   ]
  },
  {
   "cell_type": "code",
   "execution_count": 29,
   "id": "9d548ad2-3ec6-456e-a204-95abb40dee20",
   "metadata": {},
   "outputs": [
    {
     "name": "stdout",
     "output_type": "stream",
     "text": [
      "{1, 3}\n"
     ]
    }
   ],
   "source": [
    "\n",
    "={s for s in [1,2,3,4] if s%2}\n",
    "print(rs)"
   ]
  },
  {
   "cell_type": "code",
   "execution_count": null,
   "id": "0d4fb881-9636-4f7f-8ab8-176a3a1be2c6",
   "metadata": {},
   "outputs": [],
   "source": [
    "import operator\n",
    "d={}\n",
    "n=int(input(\"enetr a no.of\"))\n",
    "for i in range(n):\n"
   ]
  },
  {
   "cell_type": "code",
   "execution_count": 38,
   "id": "afdaee9d-cf3d-4e20-9c11-d37dd65d8a3b",
   "metadata": {},
   "outputs": [
    {
     "name": "stdout",
     "output_type": "stream",
     "text": [
      "{'sitha': 'A', 'neha': 'A', 'anvesh': 'B', 'avinash': 'C', 'manl': 'B', 'bandi': 'C'}\n"
     ]
    }
   ],
   "source": [
    "m={\n",
    "    'sitha':95,\n",
    "    'neha':88,\n",
    "     'anvesh':67,\n",
    "     'avinash':45,\n",
    "    'manl':77,\n",
    "    'bandi':10,\n",
    "}\n",
    "g={}\n",
    "for s in m:\n",
    "    marks=m[s]\n",
    "    if marks>=80:\n",
    "        g[s]='A'\n",
    "       \n",
    "    elif marks>=60:\n",
    "        g[s]='B'\n",
    "       \n",
    "    else:\n",
    "        g[s]='C'\n",
    "print(g)\n",
    "       \n"
   ]
  },
  {
   "cell_type": "code",
   "execution_count": 2,
   "id": "5e9fea37-dd25-4659-b69b-82e2a7d43f7c",
   "metadata": {},
   "outputs": [
    {
     "name": "stdout",
     "output_type": "stream",
     "text": [
      "8\n"
     ]
    }
   ],
   "source": [
    "n=[1,2,3,4,2,3,2,3,3]\n",
    "c=0\n",
    "for i in range(len(n)):\n",
    "    n.count(i)\n",
    "    c+=1\n",
    "print(i)\n",
    "    \n",
    "    "
   ]
  },
  {
   "cell_type": "code",
   "execution_count": null,
   "id": "25b67c84-b4bb-4178-a40c-a9e104001d05",
   "metadata": {},
   "outputs": [],
   "source": []
  },
  {
   "cell_type": "code",
   "execution_count": 2,
   "id": "05b89d8a-a83c-4104-8937-b7c75636ba15",
   "metadata": {},
   "outputs": [
    {
     "name": "stdout",
     "output_type": "stream",
     "text": [
      "3\n"
     ]
    }
   ],
   "source": [
    "nums = [1,2,3,1,1,3]\n",
    "c=0\n",
    "for i in range(len(nums)):\n",
    "    for j in range(i+1,len(nums)):\n",
    "        if nums[i]==nums[j]:\n",
    "            nums[i]+=1\n",
    "            c+=1\n",
    "print(c)\n",
    "            "
   ]
  },
  {
   "cell_type": "code",
   "execution_count": 5,
   "id": "4d1d63f3-7e10-473c-b314-ee9e8581aed0",
   "metadata": {},
   "outputs": [
    {
     "ename": "IndexError",
     "evalue": "list index out of range",
     "output_type": "error",
     "traceback": [
      "\u001b[1;31m---------------------------------------------------------------------------\u001b[0m",
      "\u001b[1;31mIndexError\u001b[0m                                Traceback (most recent call last)",
      "Cell \u001b[1;32mIn[5], line 6\u001b[0m\n\u001b[0;32m      4\u001b[0m \u001b[38;5;28;01mfor\u001b[39;00m i \u001b[38;5;129;01min\u001b[39;00m n1:\n\u001b[0;32m      5\u001b[0m     \u001b[38;5;28;01mfor\u001b[39;00m j \u001b[38;5;129;01min\u001b[39;00m n2:\n\u001b[1;32m----> 6\u001b[0m         \u001b[38;5;28;01mif\u001b[39;00m n1[i]\u001b[38;5;241m==\u001b[39mn2[j]:\n\u001b[0;32m      7\u001b[0m             n3\u001b[38;5;241m.\u001b[39mappend(i)\n\u001b[0;32m      8\u001b[0m             i\u001b[38;5;241m+\u001b[39m\u001b[38;5;241m=\u001b[39m\u001b[38;5;241m1\u001b[39m\n",
      "\u001b[1;31mIndexError\u001b[0m: list index out of range"
     ]
    }
   ],
   "source": [
    "n1 = [1,2,2,1] \n",
    "n2 = [2,2]\n",
    "n3=[]\n",
    "for i in n1:\n",
    "    for j in n2:\n",
    "        if n1[i]==n2[j]:\n",
    "            n3.append(i)\n",
    "            i+=1\n",
    "            j+=1\n",
    "print(n3)"
   ]
  },
  {
   "cell_type": "code",
   "execution_count": 5,
   "id": "43659e62-d4c4-4723-b35b-bc745cc2377e",
   "metadata": {},
   "outputs": [
    {
     "name": "stdin",
     "output_type": "stream",
     "text": [
      " 22 3 66 5 \n"
     ]
    },
    {
     "name": "stdout",
     "output_type": "stream",
     "text": [
      "[3, 5, 22, 66]\n"
     ]
    }
   ],
   "source": [
    "l=list(map(int,input().split()))\n",
    "l.sort()\n",
    "print(l)"
   ]
  },
  {
   "cell_type": "code",
   "execution_count": 4,
   "id": "f61f749f-28e2-4a34-869b-3bfae5c454cc",
   "metadata": {},
   "outputs": [
    {
     "name": "stdin",
     "output_type": "stream",
     "text": [
      " a a a a\n"
     ]
    },
    {
     "name": "stdout",
     "output_type": "stream",
     "text": [
      "['a', 'a', 'a', 'a']\n"
     ]
    }
   ],
   "source": [
    "l=list(map(str,input().split()))\n",
    "print(l)"
   ]
  },
  {
   "cell_type": "code",
   "execution_count": 12,
   "id": "9be3de6c-597b-47d1-b550-bcc320f8ae3e",
   "metadata": {},
   "outputs": [
    {
     "ename": "IndexError",
     "evalue": "tuple index out of range",
     "output_type": "error",
     "traceback": [
      "\u001b[1;31m---------------------------------------------------------------------------\u001b[0m",
      "\u001b[1;31mIndexError\u001b[0m                                Traceback (most recent call last)",
      "Cell \u001b[1;32mIn[12], line 5\u001b[0m\n\u001b[0;32m      3\u001b[0m \u001b[38;5;28;01mfor\u001b[39;00m i \u001b[38;5;129;01min\u001b[39;00m a:\n\u001b[0;32m      4\u001b[0m     \u001b[38;5;28;01mfor\u001b[39;00m j \u001b[38;5;129;01min\u001b[39;00m (i\u001b[38;5;241m+\u001b[39m\u001b[38;5;241m1\u001b[39m,a):\n\u001b[1;32m----> 5\u001b[0m         \u001b[38;5;28;01mif\u001b[39;00m a[i]\u001b[38;5;241m==\u001b[39ma[i\u001b[38;5;241m+\u001b[39m\u001b[38;5;241m1\u001b[39m]:\n\u001b[0;32m      6\u001b[0m             c\u001b[38;5;241m+\u001b[39m\u001b[38;5;241m=\u001b[39m\u001b[38;5;241m1\u001b[39m\n\u001b[0;32m      7\u001b[0m             i\u001b[38;5;241m+\u001b[39m\u001b[38;5;241m=\u001b[39m\u001b[38;5;241m1\u001b[39m\n",
      "\u001b[1;31mIndexError\u001b[0m: tuple index out of range"
     ]
    }
   ],
   "source": [
    "a = (7, 0, 8, 0, 0, 9) \n",
    "c=0\n",
    "for i in a:\n",
    "    for j in (i+1,a):\n",
    "        if a[i]==a[i+1]:\n",
    "            c+=1\n",
    "            i+=1\n",
    "print(max(i,c))\n",
    "        \n"
   ]
  },
  {
   "cell_type": "code",
   "execution_count": null,
   "id": "1151d566-6bd8-4009-a7fe-070a1c8908a9",
   "metadata": {},
   "outputs": [],
   "source": [
    "l1=[1,2,2]\n",
    "l2=[3,3,5]\n"
   ]
  }
 ],
 "metadata": {
  "kernelspec": {
   "display_name": "Python [conda env:base] *",
   "language": "python",
   "name": "conda-base-py"
  },
  "language_info": {
   "codemirror_mode": {
    "name": "ipython",
    "version": 3
   },
   "file_extension": ".py",
   "mimetype": "text/x-python",
   "name": "python",
   "nbconvert_exporter": "python",
   "pygments_lexer": "ipython3",
   "version": "3.13.5"
  }
 },
 "nbformat": 4,
 "nbformat_minor": 5
}
