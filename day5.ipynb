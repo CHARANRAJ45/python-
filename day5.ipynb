{
 "cells": [
  {
   "cell_type": "code",
   "execution_count": 4,
   "id": "307473f6-ca65-4dd4-bacc-dacefa6e2998",
   "metadata": {},
   "outputs": [
    {
     "name": "stdin",
     "output_type": "stream",
     "text": [
      " hgdd487gk\n"
     ]
    },
    {
     "name": "stdout",
     "output_type": "stream",
     "text": [
      "6 3\n"
     ]
    }
   ],
   "source": [
    "s=input()\n",
    "ca=0\n",
    "cd=0\n",
    "for char in s:\n",
    "    if char.isalpha():\n",
    "        ca+=1\n",
    "    elif char.isdigit():\n",
    "        cd+=1\n",
    "print(ca,cd)"
   ]
  },
  {
   "cell_type": "code",
   "execution_count": 7,
   "id": "fb9f975e-a404-478b-832e-75540ab920fe",
   "metadata": {},
   "outputs": [
    {
     "name": "stdin",
     "output_type": "stream",
     "text": [
      " charannitje\n"
     ]
    },
    {
     "name": "stdout",
     "output_type": "stream",
     "text": [
      "4 7\n"
     ]
    }
   ],
   "source": [
    "s=input()\n",
    "owel=0\n",
    "cons=0\n",
    "s=s.lower()\n",
    "for i in s:\n",
    "    if i=='a' or i=='e'or i=='i' or i=='o' or i=='u':\n",
    "        owel+=1\n",
    "    else:\n",
    "        cons+=1\n",
    "print(owel,cons)"
   ]
  },
  {
   "cell_type": "code",
   "execution_count": 10,
   "id": "9b9c8997-fd7a-42c5-a70b-1615af4d4667",
   "metadata": {},
   "outputs": [
    {
     "name": "stdin",
     "output_type": "stream",
     "text": [
      " hi how to \n"
     ]
    },
    {
     "name": "stdout",
     "output_type": "stream",
     "text": [
      "hi_how_to_\n"
     ]
    }
   ],
   "source": [
    "s=input()\n",
    "s=s.replace(\" \",\"_\")\n",
    "print(s)"
   ]
  },
  {
   "cell_type": "code",
   "execution_count": 14,
   "id": "ee8e0a2b-f2b3-4ea6-a837-6077d96f8223",
   "metadata": {},
   "outputs": [
    {
     "name": "stdin",
     "output_type": "stream",
     "text": [
      " hi how to \n"
     ]
    },
    {
     "name": "stdout",
     "output_type": "stream",
     "text": [
      "hi_how_to_\n"
     ]
    }
   ],
   "source": [
    "s= input()\n",
    "s1=\"\"\n",
    "for i in s:\n",
    "    if i.isspace():\n",
    "        s1+='_'\n",
    "    else:\n",
    "        s1+=i\n",
    "        \n",
    "print(s1)"
   ]
  },
  {
   "cell_type": "code",
   "execution_count": 26,
   "id": "f2b544ac-aa88-4633-88ef-2c6a73fecf4c",
   "metadata": {},
   "outputs": [
    {
     "name": "stdin",
     "output_type": "stream",
     "text": [
      " f ghj jjkl\n"
     ]
    },
    {
     "name": "stdout",
     "output_type": "stream",
     "text": [
      " F Ghj Jjkl\n"
     ]
    }
   ],
   "source": [
    "s=input()\n",
    "w=s.split()\n",
    "res=''\n",
    "for i in w:\n",
    "    cap=i[0].upper()+i[1: ]\n",
    "    res=res+' '+cap\n",
    "print(res)"
   ]
  },
  {
   "cell_type": "code",
   "execution_count": 27,
   "id": "60337f0a-d438-49c3-95ff-ba7ce20f8245",
   "metadata": {},
   "outputs": [
    {
     "name": "stdin",
     "output_type": "stream",
     "text": [
      " gcjhlif\n"
     ]
    },
    {
     "name": "stdout",
     "output_type": "stream",
     "text": [
      "filhjcg\n"
     ]
    }
   ],
   "source": [
    "s=input()\n",
    "s1=''\n",
    "for i in range(len(s)-1,-1,-1):\n",
    "    s1+=s[i]\n",
    "print(s1)"
   ]
  },
  {
   "cell_type": "markdown",
   "id": "093c5157-f5f0-4643-8831-5f1aa95e7a3c",
   "metadata": {},
   "source": [
    "len of bigger word"
   ]
  },
  {
   "cell_type": "code",
   "execution_count": 2,
   "id": "fce813d9-d861-428f-aa12-be92fb119b26",
   "metadata": {},
   "outputs": [
    {
     "name": "stdin",
     "output_type": "stream",
     "text": [
      " charan vmnmnuflh\n"
     ]
    },
    {
     "name": "stdout",
     "output_type": "stream",
     "text": [
      "9 vmnmnuflh\n"
     ]
    }
   ],
   "source": [
    "s=input()\n",
    "s1=s.split()\n",
    "l=0\n",
    "lw=''\n",
    "for i in s1:\n",
    "    if len(i)>l:\n",
    "        l=len(i)\n",
    "        lw=i\n",
    "print(l,lw)\n",
    "    \n"
   ]
  },
  {
   "cell_type": "code",
   "execution_count": null,
   "id": "6d9ae4e5-b1ce-43bb-8c46-1bbc675a3b07",
   "metadata": {},
   "outputs": [],
   "source": [
    "PALINDROM CHECK OF STR"
   ]
  },
  {
   "cell_type": "code",
   "execution_count": 3,
   "id": "7ffe287f-59db-4399-b54f-64fe6a91bd58",
   "metadata": {},
   "outputs": [
    {
     "name": "stdin",
     "output_type": "stream",
     "text": [
      " madam\n"
     ]
    },
    {
     "name": "stdout",
     "output_type": "stream",
     "text": [
      "palandrom\n"
     ]
    }
   ],
   "source": [
    "s=input()\n",
    "if s==s[::-1]:\n",
    "    print(\"palandrom\")\n",
    "else:\n",
    "    print(\"not\")"
   ]
  },
  {
   "cell_type": "markdown",
   "id": "6b930f13-2c1d-4de3-8cef-78b21d35a9a5",
   "metadata": {},
   "source": [
    "MOST FREQUENT CHARACTER"
   ]
  },
  {
   "cell_type": "code",
   "execution_count": 8,
   "id": "c2597dcc-e571-43b3-bf8b-e9434ac28892",
   "metadata": {},
   "outputs": [
    {
     "name": "stdin",
     "output_type": "stream",
     "text": [
      " charan vmnmnuflh\n"
     ]
    },
    {
     "name": "stdout",
     "output_type": "stream",
     "text": [
      "charn vmufl\n"
     ]
    }
   ],
   "source": [
    "s=input()\n",
    "s1=''\n",
    "d=set()\n",
    "for i in s:\n",
    "    if i not in d:\n",
    "        d.add(i)\n",
    "        s1+=i\n",
    "print(s1)\n",
    "    "
   ]
  },
  {
   "cell_type": "code",
   "execution_count": 9,
   "id": "92aeed42-3e7c-4214-9859-d8def3bc78ee",
   "metadata": {},
   "outputs": [
    {
     "name": "stdin",
     "output_type": "stream",
     "text": [
      " charan vmnmnuflh\n"
     ]
    },
    {
     "name": "stdout",
     "output_type": "stream",
     "text": [
      "n\n"
     ]
    }
   ],
   "source": [
    "s=input()\n",
    "f={}\n",
    "for i in s:\n",
    "    f[i]=f.get(i,0)+1\n",
    "m=max(f,key=f.get)\n",
    "print(m)"
   ]
  },
  {
   "cell_type": "code",
   "execution_count": 14,
   "id": "b30ad5e0-104d-43b1-ae5c-4894cec23c61",
   "metadata": {},
   "outputs": [
    {
     "name": "stdin",
     "output_type": "stream",
     "text": [
      "enter a password charanE@fg$\n"
     ]
    },
    {
     "name": "stdout",
     "output_type": "stream",
     "text": [
      "1\n"
     ]
    }
   ],
   "source": [
    "s=input(\"enter a password\")\n",
    "lc,uc,dc,sp,cc=1,1,1,1,0\n",
    "spc=0\n",
    "fc=0\n",
    "c=0\n",
    "l=len(s)\n",
    "if not l>=6 and l<22:\n",
    "    c=1\n",
    "for i in range(l):\n",
    "    if s[i].isupper():\n",
    "        uc=0\n",
    "        \n",
    "    if s[i].islower():\n",
    "        lc=0\n",
    "        \n",
    "    if s[i].isdigit():\n",
    "        dc=0\n",
    "       \n",
    "    if s[i] in \"!@#$%&\":\n",
    "        spc+=1\n",
    "    if spc>=2:\n",
    "        sp=0\n",
    "\n",
    "    if i+1<l and s[i]==s[i+1]:\n",
    "        cc=1\n",
    "fc+=uc+lc+dc+sp+cc+c\n",
    "print(fc)   "
   ]
  },
  {
   "cell_type": "code",
   "execution_count": 11,
   "id": "13a74b1d-fb99-4584-9e9d-22260748a177",
   "metadata": {},
   "outputs": [
    {
     "ename": "SyntaxError",
     "evalue": "invalid syntax (1320407898.py, line 10)",
     "output_type": "error",
     "traceback": [
      "\u001b[1;36m  Cell \u001b[1;32mIn[11], line 10\u001b[1;36m\u001b[0m\n\u001b[1;33m    if lc and up and dg and sps not cc:\u001b[0m\n\u001b[1;37m                                    ^\u001b[0m\n\u001b[1;31mSyntaxError\u001b[0m\u001b[1;31m:\u001b[0m invalid syntax\n"
     ]
    }
   ],
   "source": [
    "p=input(\"enter a password\")\n",
    "if len(p)<5:\n",
    "    print(\"give me more char\")\n",
    "lc=any(i.islower() for i in p)\n",
    "up=any(i.isupper() for i in p)\n",
    "dg=any(i.isdigit() for i in p)\n",
    "cc=any(p[i]==p[i+1] for i in p)\n",
    "spc=any(i==\"$@#%\".split() for i in p)\n",
    "\n",
    "if lc and up and dg and sps not cc:\n",
    "\n",
    "    "
   ]
  },
  {
   "cell_type": "code",
   "execution_count": 18,
   "id": "8ff0b6f5-6cab-4f79-a149-0a76f1924803",
   "metadata": {},
   "outputs": [
    {
     "ename": "SyntaxError",
     "evalue": "'return' outside function (3697301091.py, line 5)",
     "output_type": "error",
     "traceback": [
      "\u001b[1;36m  Cell \u001b[1;32mIn[18], line 5\u001b[1;36m\u001b[0m\n\u001b[1;33m    return False\u001b[0m\n\u001b[1;37m    ^\u001b[0m\n\u001b[1;31mSyntaxError\u001b[0m\u001b[1;31m:\u001b[0m 'return' outside function\n"
     ]
    }
   ],
   "source": [
    "s=\"madam\"\n",
    "i,j=0,len(s)-1\n",
    "while i<=j:\n",
    "    if s[i]!=s[j]:\n",
    "        return False\n",
    "        break\n",
    "    i+=1\n",
    "    j-=1\n",
    "\n",
    "return True"
   ]
  },
  {
   "cell_type": "code",
   "execution_count": null,
   "id": "8391674a-0fa5-40fa-af05-58aa38228f69",
   "metadata": {},
   "outputs": [],
   "source": [
    "i,j=0,len(s)-1\n",
    "        while i<=j:\n",
    "            if s[i]!=s[j]:\n",
    "                return False\n",
    "                break\n",
    "            i+=1\n",
    "            j-=1\n",
    "        else:\n",
    "            return True"
   ]
  },
  {
   "cell_type": "code",
   "execution_count": null,
   "id": "6116a2d8-b302-4808-9ca8-a09a7e13ade6",
   "metadata": {},
   "outputs": [],
   "source": []
  }
 ],
 "metadata": {
  "kernelspec": {
   "display_name": "Python [conda env:base] *",
   "language": "python",
   "name": "conda-base-py"
  },
  "language_info": {
   "codemirror_mode": {
    "name": "ipython",
    "version": 3
   },
   "file_extension": ".py",
   "mimetype": "text/x-python",
   "name": "python",
   "nbconvert_exporter": "python",
   "pygments_lexer": "ipython3",
   "version": "3.13.5"
  }
 },
 "nbformat": 4,
 "nbformat_minor": 5
}
