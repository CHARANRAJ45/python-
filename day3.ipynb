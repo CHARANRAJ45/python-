{
 "cells": [
  {
   "cell_type": "markdown",
   "id": "711b2ddf-0e1e-4dcc-b8dd-459f11295084",
   "metadata": {},
   "source": [
    "BITWISE OPPERATOR"
   ]
  },
  {
   "cell_type": "code",
   "execution_count": 1,
   "id": "425ed2e6-47af-4d34-be72-eb9a9733d72b",
   "metadata": {},
   "outputs": [
    {
     "name": "stdout",
     "output_type": "stream",
     "text": [
      "2\n",
      "4\n",
      "6\n",
      "8\n"
     ]
    }
   ],
   "source": [
    "#i=2\n",
    "while i<10:\n",
    "    print(i)\n",
    "    i+=2    "
   ]
  },
  {
   "cell_type": "code",
   "execution_count": 3,
   "id": "d31a3fff-603a-4c3e-956f-fc4f9ddc5268",
   "metadata": {},
   "outputs": [
    {
     "name": "stdin",
     "output_type": "stream",
     "text": [
      " 33\n"
     ]
    },
    {
     "name": "stdout",
     "output_type": "stream",
     "text": [
      "odd\n"
     ]
    }
   ],
   "source": [
    "n=int(input())\n",
    "if (n&1)==0:\n",
    "    print(\"even\")\n",
    "else:\n",
    "    print(\"odd\")"
   ]
  },
  {
   "cell_type": "code",
   "execution_count": null,
   "id": "b8393154-ce44-4ef4-b14e-cc5818555990",
   "metadata": {},
   "outputs": [],
   "source": [
    "SWAPING OF TWO NUMBERS"
   ]
  },
  {
   "cell_type": "code",
   "execution_count": 8,
   "id": "379d35e6-9d86-451f-8fcc-cf34e2d627a1",
   "metadata": {},
   "outputs": [
    {
     "name": "stdout",
     "output_type": "stream",
     "text": [
      "20 10\n"
     ]
    }
   ],
   "source": [
    "a=10\n",
    "b=20\n",
    "a=a^b\n",
    "b=a^b\n",
    "a=a^b\n",
    "print(a,b)"
   ]
  },
  {
   "cell_type": "code",
   "execution_count": 14,
   "id": "1b16f5c9-69ca-4661-9294-3375fa19693b",
   "metadata": {},
   "outputs": [
    {
     "name": "stdout",
     "output_type": "stream",
     "text": [
      "1 3 1 7 1 3 1 15 1 3 "
     ]
    }
   ],
   "source": [
    "n=10\n",
    "for i in range(0,10):\n",
    "    i=i^(i+1)\n",
    "    #i+=1\n",
    "    print(i,end=\" \")"
   ]
  },
  {
   "cell_type": "code",
   "execution_count": null,
   "id": "b8878757-e086-4d07-969f-0e3d39217441",
   "metadata": {},
   "outputs": [],
   "source": [
    "XoR operatons"
   ]
  },
  {
   "cell_type": "code",
   "execution_count": 25,
   "id": "90218c34-e1da-4064-8070-89e0763cf421",
   "metadata": {},
   "outputs": [
    {
     "name": "stdin",
     "output_type": "stream",
     "text": [
      " 2\n"
     ]
    },
    {
     "name": "stdout",
     "output_type": "stream",
     "text": [
      "3\n"
     ]
    }
   ],
   "source": [
    "def XoR(n):\n",
    "    if n%4==1:\n",
    "        return 1\n",
    "    if n%4==2:\n",
    "        return n+1\n",
    "    if n%4==3:\n",
    "        return 0\n",
    "    if n%4==0:\n",
    "        return n\n",
    "n=int(input())\n",
    "print(XoR(n))\n",
    "        "
   ]
  },
  {
   "cell_type": "code",
   "execution_count": 28,
   "id": "0b84d45d-6dd3-4710-9e29-68d7b5e37ee7",
   "metadata": {},
   "outputs": [
    {
     "name": "stdin",
     "output_type": "stream",
     "text": [
      " 10 15\n"
     ]
    },
    {
     "name": "stdout",
     "output_type": "stream",
     "text": [
      "1\n"
     ]
    }
   ],
   "source": [
    "def XoR(n):\n",
    "    if n%4==1:\n",
    "        return 1\n",
    "    if n%4==2:\n",
    "        return n+1\n",
    "    if n%4==3:\n",
    "        return 0\n",
    "    if n%4==0:\n",
    "        return n\n",
    "l,r=map(int,input().split())\n",
    "a=XoR(r)\n",
    "b=XoR(l-1)\n",
    "print(a^b)"
   ]
  },
  {
   "cell_type": "code",
   "execution_count": null,
   "id": "68c7abd3-2def-4523-be17-8861babfd679",
   "metadata": {},
   "outputs": [],
   "source": []
  }
 ],
 "metadata": {
  "kernelspec": {
   "display_name": "Python [conda env:base] *",
   "language": "python",
   "name": "conda-base-py"
  },
  "language_info": {
   "codemirror_mode": {
    "name": "ipython",
    "version": 3
   },
   "file_extension": ".py",
   "mimetype": "text/x-python",
   "name": "python",
   "nbconvert_exporter": "python",
   "pygments_lexer": "ipython3",
   "version": "3.13.5"
  }
 },
 "nbformat": 4,
 "nbformat_minor": 5
}
