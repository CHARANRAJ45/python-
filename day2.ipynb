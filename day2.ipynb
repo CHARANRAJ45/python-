{
 "cells": [
  {
   "cell_type": "markdown",
   "id": "8da7df68-4d54-44a3-a099-a0c9e79b4cab",
   "metadata": {},
   "source": [
    "NEON NUMBER"
   ]
  },
  {
   "cell_type": "code",
   "execution_count": 2,
   "id": "54e9b902-1af1-4661-9927-aafa314e97f8",
   "metadata": {},
   "outputs": [
    {
     "name": "stdin",
     "output_type": "stream",
     "text": [
      " 9\n"
     ]
    },
    {
     "name": "stdout",
     "output_type": "stream",
     "text": [
      "neon\n"
     ]
    }
   ],
   "source": [
    "n=int(input())\n",
    "sqr=n*n\n",
    "sum=0\n",
    "while sqr>0:\n",
    "    d=sqr%10\n",
    "    sum=sum+d\n",
    "    sqr=sqr//10\n",
    "if n==sum:\n",
    "    print(\"neon\")\n",
    "else:\n",
    "    print(\"not neon\")\n",
    "    "
   ]
  },
  {
   "cell_type": "markdown",
   "id": "98267706-7d0a-4181-88e7-6646f14ccf79",
   "metadata": {},
   "source": [
    "MAGIC NUMBER"
   ]
  },
  {
   "cell_type": "code",
   "execution_count": 5,
   "id": "4c0855be-b564-444e-b779-4eebf8e5a3bb",
   "metadata": {},
   "outputs": [
    {
     "name": "stdin",
     "output_type": "stream",
     "text": [
      " 91\n"
     ]
    },
    {
     "name": "stdout",
     "output_type": "stream",
     "text": [
      "magic\n"
     ]
    }
   ],
   "source": [
    "n=int(input())\n",
    "while n>9:\n",
    "    s=0\n",
    "    while n>0:\n",
    "        d=n%10\n",
    "        s+=d\n",
    "        n//=10\n",
    "    n=s\n",
    "if n==1:\n",
    "    print(\"magic\")\n",
    "else:\n",
    "    print(\"not\")"
   ]
  },
  {
   "cell_type": "markdown",
   "id": "282b2c23-0124-491c-9db4-bc9e76ef820f",
   "metadata": {},
   "source": [
    "COMPOSITE NUMBER"
   ]
  },
  {
   "cell_type": "code",
   "execution_count": null,
   "id": "85b12f56-0481-4995-a6b0-703956365efe",
   "metadata": {},
   "outputs": [],
   "source": [
    "n= int(input())\n",
    "while n>0:\n",
    "    c=0\n",
    "    for i in range(1,n):\n",
    "        if n%i==0:\n",
    "            c+=1            \n",
    "if c>2:\n",
    "    print(\"composite\")\n",
    "else:\n",
    "    print(\"not\")\n",
    "        \n",
    "        "
   ]
  },
  {
   "cell_type": "code",
   "execution_count": 7,
   "id": "fca1bfdf-870a-4734-8500-f4e768b9afd5",
   "metadata": {},
   "outputs": [
    {
     "name": "stdin",
     "output_type": "stream",
     "text": [
      " 10\n"
     ]
    },
    {
     "name": "stdout",
     "output_type": "stream",
     "text": [
      "1 2 5 10 composite\n"
     ]
    }
   ],
   "source": [
    "n=int(input())\n",
    "if n<=1:\n",
    "    print(\"not composite\")\n",
    "c=0\n",
    "for i in range(1,n+1):\n",
    "    if n%i==0:\n",
    "        print(i,end=\" \")\n",
    "        c+=1\n",
    "if c>2:\n",
    "    print(\"composite\")\n",
    "else:\n",
    "    print(\"not composite\")"
   ]
  },
  {
   "cell_type": "markdown",
   "id": "7b6ec5f4-7f7a-46b7-b101-49456783dfac",
   "metadata": {},
   "source": [
    "NIVEN NUBER"
   ]
  },
  {
   "cell_type": "code",
   "execution_count": 2,
   "id": "2a003d9d-394a-4139-98d9-090e058715dc",
   "metadata": {},
   "outputs": [
    {
     "name": "stdin",
     "output_type": "stream",
     "text": [
      " 48\n"
     ]
    },
    {
     "name": "stdout",
     "output_type": "stream",
     "text": [
      "niven\n"
     ]
    }
   ],
   "source": [
    "n=int(input())\n",
    "s=0\n",
    "while n>0:\n",
    "    d=n%10\n",
    "    s+=d\n",
    "    n//=10\n",
    "if n%s==0:\n",
    "    print(\"niven\")\n",
    "else:\n",
    "    print(\"not niven\")"
   ]
  },
  {
   "cell_type": "code",
   "execution_count": 1,
   "id": "e242293b-e8ec-4dde-9eae-a6a3f261b7b5",
   "metadata": {},
   "outputs": [
    {
     "name": "stdin",
     "output_type": "stream",
     "text": [
      " 28\n"
     ]
    },
    {
     "name": "stdout",
     "output_type": "stream",
     "text": [
      "perferct\n"
     ]
    }
   ],
   "source": [
    "n=int(input())\n",
    "s=0\n",
    "for i in range(1,n):\n",
    "    if n%i==0:\n",
    "        s+=i\n",
    "if n==s:\n",
    "    print(\"perferct\")\n",
    "else:\n",
    "    print(\"not perfect\")"
   ]
  },
  {
   "cell_type": "markdown",
   "id": "f480d6d8-2950-4a09-9818-e765c27e6980",
   "metadata": {},
   "source": [
    "STRONG"
   ]
  },
  {
   "cell_type": "code",
   "execution_count": 4,
   "id": "7e8d9341-298a-468e-9fe8-e0233bbf0a65",
   "metadata": {},
   "outputs": [
    {
     "name": "stdin",
     "output_type": "stream",
     "text": [
      " 145\n"
     ]
    },
    {
     "name": "stdout",
     "output_type": "stream",
     "text": [
      "not srong\n"
     ]
    }
   ],
   "source": [
    "n=int(input())\n",
    "org=n\n",
    "fact=1\n",
    "s=0\n",
    "while n>0:\n",
    "    d=n%10\n",
    "    for i in range(1,d+1):\n",
    "        fact*=i\n",
    "    s+=fact\n",
    "    n=n//10\n",
    "    fact=1\n",
    "if org==sum:\n",
    "    print(\"strong num\")\n",
    "else:\n",
    "    print(\"not srong\")\n"
   ]
  },
  {
   "cell_type": "markdown",
   "id": "d7a61900-65e9-4f6d-99a1-4d3420366c70",
   "metadata": {},
   "source": [
    "SPI NUMBER the sum of number == product of number"
   ]
  },
  {
   "cell_type": "code",
   "execution_count": 6,
   "id": "9523f732-29d5-4a7f-a629-dd869cfa0108",
   "metadata": {},
   "outputs": [
    {
     "name": "stdin",
     "output_type": "stream",
     "text": [
      " 1124\n"
     ]
    },
    {
     "name": "stdout",
     "output_type": "stream",
     "text": [
      "spy number\n"
     ]
    }
   ],
   "source": [
    "n=int(input())\n",
    "sum=0\n",
    "m=1\n",
    "while n>0:\n",
    "    d=n%10\n",
    "    sum+=d\n",
    "    m*=d\n",
    "    n=n//10\n",
    "if sum==m:\n",
    "    print(\"spy number\")\n",
    "else:\n",
    "    print(\"not spy\")"
   ]
  },
  {
   "cell_type": "markdown",
   "id": "94bf41c1-c832-4ac1-8bfb-63af469e276c",
   "metadata": {},
   "source": [
    "LIST"
   ]
  },
  {
   "cell_type": "code",
   "execution_count": 3,
   "id": "5fc1f753-9455-4146-9c01-3df439d1a7ec",
   "metadata": {},
   "outputs": [
    {
     "name": "stdin",
     "output_type": "stream",
     "text": [
      " 1 2 9\n",
      " 4 3 8\n"
     ]
    },
    {
     "name": "stdout",
     "output_type": "stream",
     "text": [
      "[1, 2, 3, 4, 8, 9]\n"
     ]
    }
   ],
   "source": [
    "l1=list(map(int,input().split()))\n",
    "l2=list(map(int,input().split()))\n",
    "l3=l1+l2\n",
    "l3.sort()\n",
    "print(l3)\n"
   ]
  },
  {
   "cell_type": "code",
   "execution_count": 6,
   "id": "29370d3c-79c6-4033-aef5-4d2a2051a494",
   "metadata": {},
   "outputs": [
    {
     "name": "stdin",
     "output_type": "stream",
     "text": [
      " 1 5 8\n"
     ]
    },
    {
     "name": "stdout",
     "output_type": "stream",
     "text": [
      "[8, 5, 1]\n"
     ]
    }
   ],
   "source": [
    "l=list(map(int,input().split()))\n",
    "l[0],l[-1]=l[-1],l[0]\n",
    "print(l)\n"
   ]
  },
  {
   "cell_type": "code",
   "execution_count": 8,
   "id": "bdeb78ab-5ffc-4b4c-abd3-6cebf773a9a6",
   "metadata": {},
   "outputs": [
    {
     "name": "stdin",
     "output_type": "stream",
     "text": [
      " 10 30 50 10 20 20\n"
     ]
    },
    {
     "name": "stdout",
     "output_type": "stream",
     "text": [
      "[10, 30, 50, 20]\n"
     ]
    }
   ],
   "source": [
    "l=list(map(int,input().split()))\n",
    "u=[]\n",
    "for n in l:\n",
    "    if n not in u:\n",
    "        u.append(n)\n",
    "print(u)"
   ]
  },
  {
   "cell_type": "code",
   "execution_count": 1,
   "id": "4dc4b3d5-088a-4067-882b-8dca72c362f2",
   "metadata": {},
   "outputs": [
    {
     "name": "stdin",
     "output_type": "stream",
     "text": [
      " 1 2 3 4 1 2 3 1 5 7 2 \n"
     ]
    },
    {
     "name": "stdout",
     "output_type": "stream",
     "text": [
      "[1, 2, 4, 5, 7]\n"
     ]
    }
   ],
   "source": [
    "l=list(map(int,input().split()))\n",
    "l1=[]\n",
    "for i in l:\n",
    "    if l.count(i)%2!=0 and i not in l1:\n",
    "        l1.append(i)\n",
    "print(l1)        "
   ]
  },
  {
   "cell_type": "code",
   "execution_count": 3,
   "id": "d49ad86e-4262-44de-9956-08edae0ac9cc",
   "metadata": {},
   "outputs": [
    {
     "name": "stdout",
     "output_type": "stream",
     "text": [
      "11\n"
     ]
    }
   ],
   "source": [
    "l=[1,3,36,7,8]\n",
    "l.sort()\n",
    "print(sum(l[:3]))"
   ]
  },
  {
   "cell_type": "code",
   "execution_count": 7,
   "id": "d8c44b50-451c-44ee-9c06-715a6f0c2468",
   "metadata": {},
   "outputs": [
    {
     "name": "stdout",
     "output_type": "stream",
     "text": [
      "[2, 4, 6, 8, 10, 12]\n"
     ]
    }
   ],
   "source": [
    "l=[8,5,6,9,10,5,3,11,2,1,12,4]\n",
    "even=sorted([i for i in l if i%2==0])\n",
    "odd=sorted\n",
    "print(even)\n",
    "        "
   ]
  },
  {
   "cell_type": "markdown",
   "id": "ed368cb7-4f95-478f-82d6-4922d916b499",
   "metadata": {},
   "source": [
    "sort of even numbers in desending order and odd numbers in ascending order"
   ]
  },
  {
   "cell_type": "code",
   "execution_count": 12,
   "id": "7ea09835-9d1d-4390-b491-cbc9685ec08f",
   "metadata": {},
   "outputs": [
    {
     "name": "stdout",
     "output_type": "stream",
     "text": [
      "[12, 10, 8, 6, 4, 2, 1, 3, 5, 5, 9, 11]\n"
     ]
    }
   ],
   "source": [
    "l=[8,5,6,9,10,5,3,11,2,1,12,4]\n",
    "even=[]\n",
    "odd=[]\n",
    "for i in l:\n",
    "    if i%2==0:\n",
    "        even.append(i)\n",
    "    else:\n",
    "        odd.append(i)\n",
    "even.sort(reverse=True)\n",
    "odd.sort()\n",
    "res=even+odd\n",
    "print(res)"
   ]
  },
  {
   "cell_type": "code",
   "execution_count": 18,
   "id": "480f5e7a-c6ca-460f-ae2b-5195474ff051",
   "metadata": {},
   "outputs": [
    {
     "name": "stdout",
     "output_type": "stream",
     "text": [
      "[12, 10, 8, 6, 4, 2, 1, 3, 5, 5, 9, 11]\n"
     ]
    }
   ],
   "source": [
    "l=[8,5,6,9,10,5,3,11,2,1,12,4]\n",
    "l.sort()\n",
    "l1=[]\n",
    "for i in l:\n",
    "    if i%2==0:\n",
    "        l1.insert(0,i)\n",
    "    else:\n",
    "        l1.append(i)\n",
    "print(l1)"
   ]
  },
  {
   "cell_type": "code",
   "execution_count": 2,
   "id": "b394a208-7e4a-4973-875f-8be15e11f123",
   "metadata": {},
   "outputs": [
    {
     "name": "stdin",
     "output_type": "stream",
     "text": [
      " 22\n"
     ]
    },
    {
     "ename": "AttributeError",
     "evalue": "'int' object has no attribute 'split'",
     "output_type": "error",
     "traceback": [
      "\u001b[1;31m---------------------------------------------------------------------------\u001b[0m",
      "\u001b[1;31mAttributeError\u001b[0m                            Traceback (most recent call last)",
      "Cell \u001b[1;32mIn[2], line 1\u001b[0m\n\u001b[1;32m----> 1\u001b[0m l\u001b[38;5;241m=\u001b[39m\u001b[38;5;28mint\u001b[39m(\u001b[38;5;28minput\u001b[39m())\u001b[38;5;241m.\u001b[39msplit()\n\u001b[0;32m      2\u001b[0m n\u001b[38;5;241m=\u001b[39m\u001b[38;5;28mlen\u001b[39m(l)\n\u001b[0;32m      3\u001b[0m s\u001b[38;5;241m=\u001b[39m\u001b[38;5;28msum\u001b[39m(l)\n",
      "\u001b[1;31mAttributeError\u001b[0m: 'int' object has no attribute 'split'"
     ]
    }
   ],
   "source": [
    "l=int(input()).split()\n",
    "n=len(l)\n",
    "s=sum(l)\n",
    "n=n*(n+1)//2\n",
    "return n-s"
   ]
  },
  {
   "cell_type": "code",
   "execution_count": 2,
   "id": "51c31b26-c022-41ea-8cc3-815871b2bd57",
   "metadata": {},
   "outputs": [
    {
     "name": "stdout",
     "output_type": "stream",
     "text": [
      "1\n"
     ]
    }
   ],
   "source": [
    "l=[1,-1,1,-1,-1,1,1,1,2,-3]\n",
    "p=0\n",
    "uns=0\n",
    "for i in l:\n",
    "    if i==-1:\n",
    "        if p>0:\n",
    "            p-=1\n",
    "        else:\n",
    "            uns+=1\n",
    "    else:\n",
    "        p+=i\n",
    "print(uns)"
   ]
  },
  {
   "cell_type": "code",
   "execution_count": null,
   "id": "44740532-e02f-4613-995b-c0c2e09cb520",
   "metadata": {},
   "outputs": [],
   "source": []
  }
 ],
 "metadata": {
  "kernelspec": {
   "display_name": "Python [conda env:base] *",
   "language": "python",
   "name": "conda-base-py"
  },
  "language_info": {
   "codemirror_mode": {
    "name": "ipython",
    "version": 3
   },
   "file_extension": ".py",
   "mimetype": "text/x-python",
   "name": "python",
   "nbconvert_exporter": "python",
   "pygments_lexer": "ipython3",
   "version": "3.13.5"
  }
 },
 "nbformat": 4,
 "nbformat_minor": 5
}
