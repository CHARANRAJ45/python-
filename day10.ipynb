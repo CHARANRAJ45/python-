{
 "cells": [
  {
   "cell_type": "markdown",
   "id": "eed72fc8-53de-4f46-a637-08057f17ae77",
   "metadata": {},
   "source": [
    "### leatcode : 141"
   ]
  },
  {
   "cell_type": "code",
   "execution_count": null,
   "id": "0da1911a-7c48-402d-9dff-62e6b37ac6ab",
   "metadata": {},
   "outputs": [],
   "source": [
    "# Definition for singly-linked list.\n",
    "# class ListNode:\n",
    "#     def __init__(self, x):\n",
    "#         self.val = x\n",
    "#         self.next = None\n",
    "\n",
    "class Solution:\n",
    "    def hasCycle(self, head: Optional[ListNode]) -> bool:\n",
    "       f,s=head,head\n",
    "       while f and f.next:\n",
    "        f=f.next.next\n",
    "        s=s.next\n",
    "\n",
    "        if f==s:\n",
    "            return True\n",
    "       return False"
   ]
  },
  {
   "cell_type": "markdown",
   "id": "a1c96c1c-4bff-4cb6-8bea-662633f72f24",
   "metadata": {},
   "source": [
    "### leatcode : 206"
   ]
  },
  {
   "cell_type": "code",
   "execution_count": null,
   "id": "a2fde4b3-41ea-4657-b798-a55aaca6771d",
   "metadata": {},
   "outputs": [],
   "source": [
    "# Definition for singly-linked list.\n",
    "# class ListNode:\n",
    "#     def __init__(self, val=0, next=None):\n",
    "#         self.val = val\n",
    "#         self.next = next\n",
    "class Solution:\n",
    "    def reverseList(self, head: Optional[ListNode]) -> Optional[ListNode]:\n",
    "        prev=None\n",
    "        curr=head\n",
    "        while curr:\n",
    "            temp=curr.next\n",
    "            curr.next=prev\n",
    "            prev=curr\n",
    "            curr=temp\n",
    "        return prev "
   ]
  },
  {
   "cell_type": "markdown",
   "id": "cedddcac-020b-4f5e-80b0-38a96f1c54d4",
   "metadata": {},
   "source": [
    "###  leetcode :160"
   ]
  },
  {
   "cell_type": "code",
   "execution_count": null,
   "id": "9e361ab7-df4c-48c6-a9a9-52baf932797e",
   "metadata": {},
   "outputs": [],
   "source": [
    "class Solution:\n",
    "    def getIntersectionNode(self, headA: ListNode, headB: ListNode) -> Optional[ListNode]:\n",
    "        a,b=headA,headB\n",
    "        while a is not b:\n",
    "            a=headB if not a else a.next\n",
    "            b=headA if not b else b.next\n",
    "        return a"
   ]
  },
  {
   "cell_type": "code",
   "execution_count": null,
   "id": "e25f8f5c-583e-4e40-b8ee-0b277ae8c35c",
   "metadata": {},
   "outputs": [],
   "source": [
    "class Solution:\n",
    "    def getIntersectionNode(self, headA: ListNode, headB: ListNode) -> Optional[ListNode]:\n",
    "        l1,l2=headA,headB\n",
    "        while l1!=l2:\n",
    "            if l1:\n",
    "                l1=l1.next\n",
    "            else:\n",
    "                l1=headB\n",
    "            if l2:\n",
    "                l2=l2.next\n",
    "            else:\n",
    "                l2=headA\n",
    "        return l1"
   ]
  },
  {
   "cell_type": "code",
   "execution_count": null,
   "id": "8fed1de5-622a-4b17-8864-7f22f2605abd",
   "metadata": {},
   "outputs": [],
   "source": [
    "#leetcode : 19\n",
    "\n",
    "class Solution:\n",
    "    def removeNthFromEnd(self, head: Optional[ListNode], n: int) -> Optional[ListNode]:\n",
    "        fast=head\n",
    "        slow=head\n",
    "        for i in range(n):\n",
    "            fast=fast.next\n",
    "        if fast is None:\n",
    "            return head.next\n",
    "        while fast.next!=None:\n",
    "            fast=fast.next\n",
    "            slow=slow.next\n",
    "        slow.next=slow.next.next\n",
    "        return head"
   ]
  },
  {
   "attachments": {
    "d346967a-524c-428b-b3ce-5cd372bf7c70.webp": {
     "image/webp": "[encoded data removed]"
    }
   },
   "cell_type": "markdown",
   "id": "c69f56a7-d133-40ec-9920-dc08ff9829bc",
   "metadata": {},
   "source": [
    "### Trees:\n",
    "![treeTerminologies.webp](attachment:d346967a-524c-428b-b3ce-5cd372bf7c70.webp)\n"
   ]
  },
  {
   "cell_type": "code",
   "execution_count": 16,
   "id": "b5e41f7b-72f7-40a3-8d74-934bb8ae84db",
   "metadata": {},
   "outputs": [
    {
     "name": "stdout",
     "output_type": "stream",
     "text": [
      "Preorder Traversal:\n",
      "10 5 2 1 8 20 15 25 \n",
      "Inorder Traversal:\n",
      "1 2 5 8 10 15 20 25 \n",
      "Postorder Traversal:\n",
      "1 2 8 5 15 25 20 10 \n",
      "1 2 5 10 20 25 "
     ]
    }
   ],
   "source": [
    "class Node:\n",
    "    def __init__(self, root):   # creating Tree Node\n",
    "        self.data = root\n",
    "        self.left = None\n",
    "        self.right = None\n",
    "\n",
    "\n",
    "# Preorder Traversal\n",
    "def preorder(root):\n",
    "    if root is None:\n",
    "        return\n",
    "    print(root.data, end=' ')\n",
    "    preorder(root.left)\n",
    "    preorder(root.right)\n",
    "\n",
    "\n",
    "# Inorder Traversal\n",
    "def inorder(root):\n",
    "    if root is None:\n",
    "        return\n",
    "    inorder(root.left)\n",
    "    print(root.data, end=' ')\n",
    "    inorder(root.right)\n",
    "\n",
    "\n",
    "# Postorder Traversal\n",
    "def postorder(root):\n",
    "    if root is None:\n",
    "        return\n",
    "    postorder(root.left)\n",
    "    postorder(root.right)\n",
    "    print(root.data, end=' ')\n",
    "\n",
    "# Levelorder Traversal\n",
    "def levelorder(root):\n",
    "    q=[root]\n",
    "    q.append(root)\n",
    "    while len(q) != 0:\n",
    "        root=q.pop(0)\n",
    "        print(root.data,end=' ')\n",
    "        if root.left is not None:\n",
    "            q.append(root.left)\n",
    "        if root.right is not None:\n",
    "            q.append(root.right)\n",
    "\n",
    "#sum of node or sum of all elements\n",
    "def sum_nod(root):\n",
    "    if root==None:\n",
    "        return 0\n",
    "    else:\n",
    "        return root.data + sum_nod(root.left) + sum_nod(root.right)\n",
    "        \n",
    "#sum of even node    \n",
    "def sum_nod_even(root):\n",
    "    if root==None:\n",
    "        return 0\n",
    "    t=0\n",
    "    if root.data%2==0:\n",
    "        t+=root.data\n",
    "    t+=sum_nod_even(root.left)\n",
    "    t+=sum_nod_even(root.right)\n",
    "    return t\n",
    "\n",
    "\n",
    "#hight of tree\n",
    "def height(root):\n",
    "    if root == None:\n",
    "        return 0\n",
    "    left_height = height(root.left)\n",
    "    right_height = height(root.right)\n",
    "    return 1 + max(left_height, right_height)\n",
    "    \n",
    "def topview(root):\n",
    "    print()\n",
    "    q=[]\n",
    "    d=dict()\n",
    "    root.level=0\n",
    "    q.append(root)\n",
    "    while len(q)!=0:\n",
    "        root=q.pop(0)\n",
    "        if root.level not in d:\n",
    "            d[root.level]=root.data\n",
    "        if root.left is not None:\n",
    "            q.append(root.left)\n",
    "            root.left.level=root.level-1\n",
    "        if root.right is not None:\n",
    "            q.append(root.right)\n",
    "            root.right.level=root.level+1\n",
    "    for i in sorted(d):\n",
    "        print(d[i],end=\" \")\n",
    "    \n",
    "\n",
    "\n",
    "\n",
    "# Constructing the tree\n",
    "root = Node(10)\n",
    "root.left = Node(5)\n",
    "root.right = Node(20)\n",
    "root.left.left = Node(2)\n",
    "root.left.right = Node(8)\n",
    "root.right.left = Node(15)\n",
    "root.right.right = Node(25)\n",
    "root.left.left.left = Node(1)\n",
    "\n",
    "# Traversals\n",
    "print(\"Preorder Traversal:\")\n",
    "preorder(root)\n",
    "\n",
    "print(\"\\nInorder Traversal:\")\n",
    "inorder(root)\n",
    "\n",
    "print(\"\\nPostorder Traversal:\")\n",
    "postorder(root)\n",
    "\n",
    "#print(\"\\nLevelOrder Traversal : \")\n",
    "#evelorder(root)\n",
    "sum_nod(root)\n",
    "\n",
    "sum_nod_even(root)\n",
    "\n",
    "height(root)\n",
    "\n",
    "topview(root)"
   ]
  },
  {
   "cell_type": "code",
   "execution_count": null,
   "id": "de6b1561-9e4d-473c-8cab-cdeedea8021b",
   "metadata": {},
   "outputs": [],
   "source": []
  }
 ],
 "metadata": {
  "kernelspec": {
   "display_name": "Python [conda env:base] *",
   "language": "python",
   "name": "conda-base-py"
  },
  "language_info": {
   "codemirror_mode": {
    "name": "ipython",
    "version": 3
   },
   "file_extension": ".py",
   "mimetype": "text/x-python",
   "name": "python",
   "nbconvert_exporter": "python",
   "pygments_lexer": "ipython3",
   "version": "3.13.5"
  }
 },
 "nbformat": 4,
 "nbformat_minor": 5
}
