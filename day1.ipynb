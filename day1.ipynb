{
 "cells": [
  {
   "cell_type": "code",
   "execution_count": null,
   "id": "d66306de-86ad-494a-b700-1a33a6ba8825",
   "metadata": {},
   "outputs": [],
   "source": [
    "n1=int(input())\n",
    "n2=int(input())\n",
    "n3=int(input())\n",
    "if n1>n2 and n1>n3:\n",
    "    print(\"greatest is :\",n1)\n",
    "elif n2>n3:\n",
    "    print(\"greatest is :\",n2)\n",
    "else:\n",
    "    print(\"greatest is :\",n3)"
   ]
  },
  {
   "cell_type": "code",
   "execution_count": null,
   "id": "9ef408fa-3b63-4a79-bc2a-9f38c6a26365",
   "metadata": {},
   "outputs": [],
   "source": [
    "n1=int(input())\n",
    "if n1%2==0:\n",
    "    print(\"even\")\n",
    "else:\n",
    "    print(\"odd\")\n"
   ]
  },
  {
   "cell_type": "code",
   "execution_count": null,
   "id": "dbe04b1e-2bd8-4bc0-b009-b4dda1436e98",
   "metadata": {},
   "outputs": [],
   "source": [
    "a,b,c=map(int,input().split())\n",
    "if a>b and a>c:\n",
    "    print(a)\n",
    "elif b>c:\n",
    "    print(b)\n",
    "else:\n",
    "    print(c)"
   ]
  },
  {
   "cell_type": "code",
   "execution_count": null,
   "id": "d32af270-0174-40cc-ad67-90d4b6f3c055",
   "metadata": {},
   "outputs": [],
   "source": [
    "a=int(input(\"age :\"))\n",
    "if a>18:\n",
    "    if a>75:\n",
    "        print(\"risk for your life\")\n",
    "    elif a>40:\n",
    "        print(\"panic attack\")\n",
    "    elif a>25:\n",
    "        print(\"dont make nonesense\")\n",
    "    else:\n",
    "        print(\"simply sit\")\n",
    "else:\n",
    "    print(\"you are a kid\")"
   ]
  },
  {
   "cell_type": "code",
   "execution_count": null,
   "id": "4f77f1f8-a285-43d0-8b0a-51ad713ca7b6",
   "metadata": {},
   "outputs": [],
   "source": [
    "w=int(input(\"enter a weight between 1 and 100:\"))\n",
    "if w>=1 and w<=100:\n",
    "    if w%2==0:\n",
    "        x=w//2\n",
    "        if x%2==0:\n",
    "            print(\"yes\",x,x)\n",
    "        else:\n",
    "            print(x-1,x+1)\n",
    "            print(\"Yes\")\n",
    "    else:\n",
    "        print(\"No\")\n",
    "else:\n",
    "    print(\"corret weight as given for above conditions \")"
   ]
  },
  {
   "cell_type": "code",
   "execution_count": null,
   "id": "ecfd46da-951d-41df-a7b8-74fc1a1595c3",
   "metadata": {},
   "outputs": [],
   "source": [
    "x=int(input(\"enter a distance: \"))\n",
    "if x%5==0:\n",
    "    print(x//5)\n",
    "else:\n",
    "    print(x//5+1)\n",
    "    "
   ]
  },
  {
   "cell_type": "code",
   "execution_count": null,
   "id": "7a860002-8317-4b0e-b2a0-9d417b775157",
   "metadata": {},
   "outputs": [],
   "source": [
    "n=int(input())\n",
    "if n%3==0 and n%5==0:\n",
    "    print(\"it is fizzuzz\")\n",
    "elif n%3==0:\n",
    "    print(\"it is fizz\")\n",
    "elif n%5==0:\n",
    "    print(\"it is buzz\")\n",
    "else:\n",
    "    print(\"it is not any buzz or fizz\")"
   ]
  },
  {
   "cell_type": "markdown",
   "id": "d8f472a4-e9fc-4bb3-8ef4-521b34045594",
   "metadata": {},
   "source": [
    "TWO digit number check"
   ]
  },
  {
   "cell_type": "code",
   "execution_count": null,
   "id": "4db244c9-1672-4a5f-b4d5-e11c6cda9b46",
   "metadata": {},
   "outputs": [],
   "source": [
    "n=int(input())\n",
    "if n%7==0 or n%10==7:\n",
    "    print(\"it is buzz number\")\n",
    "else:\n",
    "    print(\"its not a buzz\")"
   ]
  },
  {
   "cell_type": "code",
   "execution_count": null,
   "id": "84fc56d4-fb39-42b8-a243-b7615ca78cb0",
   "metadata": {},
   "outputs": [],
   "source": [
    "n=int(input())\n",
    "n1=n//10\n",
    "n2=n%10\n",
    "if n1==n2:\n",
    "    print(n)\n",
    "else:\n",
    "    print(\"none\")"
   ]
  },
  {
   "cell_type": "code",
   "execution_count": null,
   "id": "7bc793bc-3bf4-4a18-9d98-6389efb156b0",
   "metadata": {},
   "outputs": [],
   "source": [
    "n=int(input())\n",
    "if n%11==0:\n",
    "    print(\" are same\")\n",
    "else:\n",
    "    print(\"none\")"
   ]
  },
  {
   "cell_type": "markdown",
   "id": "f13fb1b1-4c18-414a-8953-e1e5e9df85f7",
   "metadata": {},
   "source": [
    "FOR LOOPS\n"
   ]
  },
  {
   "cell_type": "code",
   "execution_count": null,
   "id": "c5894041-0f74-4eac-adcf-a72f1bf649ce",
   "metadata": {},
   "outputs": [],
   "source": [
    "for i in range(50,101,2):\n",
    "    print(i,end=\" \")\n",
    "\n",
    "for i in range(50,101):\n",
    "    if i%2==0:\n",
    "        print(i,end=\" \")"
   ]
  },
  {
   "cell_type": "markdown",
   "id": "ba10806f-9c97-4622-bd38-a34fbc3d0dd0",
   "metadata": {},
   "source": [
    "PRIME NUMBER\n"
   ]
  },
  {
   "cell_type": "code",
   "execution_count": null,
   "id": "f21c3430-bbd6-404e-a397-397d1a19d865",
   "metadata": {},
   "outputs": [],
   "source": [
    "n=int(input())\n",
    "for i in range(2,n):\n",
    "    if n%i==0:\n",
    "        print(\"not prime\")\n",
    "        break\n",
    "else:\n",
    "    print(\"prime\")\n",
    "\n"
   ]
  },
  {
   "cell_type": "code",
   "execution_count": null,
   "id": "a7d779a4-e985-40dc-be04-b766d753784a",
   "metadata": {},
   "outputs": [],
   "source": [
    "c=0\n",
    "n=0\n",
    "for i in range(5,15):\n",
    "    if n%i==0:\n",
    "        c+=1\n",
    "        print(c)\n",
    "        break\n",
    "else:\n",
    "    print(\"not prime\")"
   ]
  },
  {
   "cell_type": "code",
   "execution_count": null,
   "id": "ae251845-98a7-4928-a101-5317f27f0c26",
   "metadata": {},
   "outputs": [],
   "source": [
    "def isprime(n):\n",
    "    for i in range(2,(n//2)+1):\n",
    "        if n%i==0:\n",
    "            return False\n",
    "    return True\n",
    "l=int(input())\n",
    "r=int(input())\n",
    "c=0\n",
    "for i in range(l,r+1):\n",
    "    if isprime(i):\n",
    "        c+=1\n",
    "print(c)"
   ]
  },
  {
   "cell_type": "raw",
   "id": "5aba5342-e9c4-43b3-a677-a66fcebb4178",
   "metadata": {},
   "source": [
    "WHILE LOoP\n",
    "  1,sum of numbers\n",
    "  2,count of numbers"
   ]
  },
  {
   "cell_type": "code",
   "execution_count": null,
   "id": "e1afd897-1034-4221-b323-c060a8f0228e",
   "metadata": {},
   "outputs": [],
   "source": [
    "sum=0\n",
    "n=int(input(\"enter a number :\"))\n",
    "while n>0:\n",
    "    d=n%10\n",
    "    sum=sum+d\n",
    "    n=n//10\n",
    "print(sum)\n",
    "    "
   ]
  },
  {
   "cell_type": "code",
   "execution_count": null,
   "id": "f61d9fcb-a32f-4d93-916b-78174620e1e0",
   "metadata": {},
   "outputs": [],
   "source": [
    "n=int(input())\n",
    "count=0\n",
    "while n>0:\n",
    "    count+=1\n",
    "    n=n//10\n",
    "print(count)"
   ]
  },
  {
   "cell_type": "code",
   "execution_count": null,
   "id": "82b5c103-c807-4e04-97cc-02acde020988",
   "metadata": {},
   "outputs": [],
   "source": [
    "year=0\n",
    "l=int(input())\n",
    "b=int(input())\n",
    "while l<=b:\n",
    "    l*=3\n",
    "    b*=2\n",
    "    year+=1\n",
    "print(year)"
   ]
  },
  {
   "cell_type": "markdown",
   "id": "c11d7eac-c1b0-45f8-ba76-fd3e23d182aa",
   "metadata": {},
   "source": [
    "Googly number"
   ]
  },
  {
   "cell_type": "code",
   "execution_count": null,
   "id": "aa2be110-21e6-4c6f-a1e8-138d27957a40",
   "metadata": {},
   "outputs": [],
   "source": [
    "s=0\n",
    "n=int(input(\"enter a number :\"))\n",
    "while n>0:\n",
    "    d=n%10\n",
    "    s=s+d\n",
    "    n=n//10\n",
    "flag=0\n",
    "for i in range(2,s):\n",
    "    if s%i==0:\n",
    "        flag+=1\n",
    "if flag==0:\n",
    "    print(\"googly\")\n",
    "else:\n",
    "    print(\"not gogly\")\n"
   ]
  },
  {
   "cell_type": "markdown",
   "id": "036eba12-d5d7-470f-8b82-4ded641c141d",
   "metadata": {},
   "source": [
    "ASTRON NUMBER"
   ]
  },
  {
   "cell_type": "code",
   "execution_count": null,
   "id": "939c1cfa-5f5a-493d-afc6-2dabe204ab7f",
   "metadata": {},
   "outputs": [],
   "source": [
    "n=int(input())\n",
    "temp1=n\n",
    "temp2=n\n",
    "c=0\n",
    "while temp1>0:\n",
    "    c+=1\n",
    "    temp1=temp1//10\n",
    "a=0\n",
    "while temp2>0:\n",
    "    d=temp2%10\n",
    "    a=a+d**c\n",
    "    temp2=temp2//10\n",
    "if a==n:\n",
    "    print(\"Astrong\")\n",
    "else:\n",
    "    print(\"not\")"
   ]
  },
  {
   "cell_type": "code",
   "execution_count": null,
   "id": "6e121533-0892-4cc8-82f0-f31d7e2cf8ab",
   "metadata": {},
   "outputs": [],
   "source": [
    "n=int(input())\n",
    "sqr=n*n\n",
    "sum=0\n",
    "while sqr>0:\n",
    "    d=sqr%10\n",
    "    sum=sum+d\n",
    "    sqr=sqr//10\n",
    "if num==sum:\n",
    "    print(\"neon\")\n",
    "else:\n",
    "    print(\"not neon\")\n",
    "    "
   ]
  },
  {
   "cell_type": "code",
   "execution_count": null,
   "id": "eecd6ec1-664e-4dd2-b21e-cbcf5209b189",
   "metadata": {},
   "outputs": [],
   "source": []
  }
 ],
 "metadata": {
  "kernelspec": {
   "display_name": "Python [conda env:base] *",
   "language": "python",
   "name": "conda-base-py"
  },
  "language_info": {
   "codemirror_mode": {
    "name": "ipython",
    "version": 3
   },
   "file_extension": ".py",
   "mimetype": "text/x-python",
   "name": "python",
   "nbconvert_exporter": "python",
   "pygments_lexer": "ipython3",
   "version": "3.13.5"
  }
 },
 "nbformat": 4,
 "nbformat_minor": 5
}
