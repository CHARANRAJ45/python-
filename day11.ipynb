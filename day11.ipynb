{
 "cells": [
  {
   "cell_type": "code",
   "execution_count": null,
   "id": "09bac7a0-b979-4fa4-a63f-bd92cb95873a",
   "metadata": {},
   "outputs": [],
   "source": [
    "# leet code : 235\n",
    "\n",
    "\n",
    "\n",
    "\n",
    "# Definition for a binary tree node.\n",
    "# class TreeNode:\n",
    "#     def __init__(self, x):\n",
    "#         self.val = x\n",
    "#         self.left = None\n",
    "#         self.right = None\n",
    "\n",
    "class Solution:\n",
    "    def lowestCommonAncestor(self, root: 'TreeNode', p: 'TreeNode', q: 'TreeNode') -> 'TreeNode':\n",
    "        while True:\n",
    "            if root.val>p.val and root.val>q.val:\n",
    "                root=root.left\n",
    "            elif root.val<p.val and root.val<q.val:\n",
    "                root=root.right\n",
    "            else:\n",
    "                return root\n",
    "        "
   ]
  },
  {
   "cell_type": "code",
   "execution_count": null,
   "id": "9df16302-0671-4945-861d-67061702555b",
   "metadata": {},
   "outputs": [],
   "source": [
    "#leetcode =121\n",
    "\n",
    "class Solution:\n",
    "    def maxProfit(self, prices: List[int]) -> int:\n",
    "        min_prices=prices[0]\n",
    "        max_profit=0\n",
    "        for i in range(1,len(prices)):\n",
    "            if prices[i]<min_prices:\n",
    "                min_prices=prices[i]\n",
    "            elif prices[i] - min_prices > max_profit:\n",
    "                max_profit = prices[i] - min_prices\n",
    "        return max_profit\n",
    "\n",
    "\n",
    "        "
   ]
  },
  {
   "cell_type": "code",
   "execution_count": 3,
   "id": "978bcadf-58a5-4f95-aa63-b160c93856ff",
   "metadata": {},
   "outputs": [
    {
     "name": "stdout",
     "output_type": "stream",
     "text": [
      "Counter({'3': 3, '7': 2, '8': 2, '5': 1})\n",
      "3\n"
     ]
    }
   ],
   "source": [
    "#frequency of numbers\n",
    "\n",
    "data=57837383\n",
    "s=str(abs(data))\n",
    "from collections import Counter\n",
    "cnt=Counter(s)\n",
    "print(cnt)\n",
    "repeats=sum(1 for v in cnt.values() if v>1)\n",
    "if repeats >0:\n",
    "    print(repeats)\n",
    "else:\n",
    "    print(-1)"
   ]
  },
  {
   "cell_type": "code",
   "execution_count": 8,
   "id": "68492f2e-e345-4af1-9f33-d9b661d5a862",
   "metadata": {},
   "outputs": [
    {
     "name": "stdout",
     "output_type": "stream",
     "text": [
      "Sum of adjacent distance :  12\n"
     ]
    }
   ],
   "source": [
    "def sum_a(numbers):\n",
    "    t=0\n",
    "    for i in range(len(numbers)-1):\n",
    "        t+=abs(numbers[i] - numbers[i+1])\n",
    "    return t\n",
    "input_numbers=[10,11,7,12,14]\n",
    "result = sum_a(input_numbers)\n",
    "print(\"Sum of adjacent distance : \",result)"
   ]
  },
  {
   "cell_type": "code",
   "execution_count": 10,
   "id": "0cfeceaa-f457-431e-b3db-d45a14a9f61f",
   "metadata": {},
   "outputs": [
    {
     "name": "stdout",
     "output_type": "stream",
     "text": [
      "4\n"
     ]
    }
   ],
   "source": [
    "n=1234321654\n",
    "m=2\n",
    "s=str(n)\n",
    "d={}\n",
    "for i in s:\n",
    "    if i not in d:\n",
    "        d[i]=1\n",
    "    else:\n",
    "        d[i]+=1\n",
    "res=0\n",
    "for i in d:\n",
    "    if d[i]==m:\n",
    "        res=i\n",
    "print(res)"
   ]
  },
  {
   "cell_type": "code",
   "execution_count": 25,
   "id": "ff8807ac-673c-4dd4-a125-981b64e85348",
   "metadata": {},
   "outputs": [
    {
     "name": "stdout",
     "output_type": "stream",
     "text": [
      "[0, 2, 4, 6, 1, 3, 5, 7]\n"
     ]
    }
   ],
   "source": [
    "n=[1,2,3,4,5,6,7,8]\n",
    "l=[]\n",
    "o=[]\n",
    "for i in range(len(n)):\n",
    "    if i %2==0:\n",
    "        l.append(i)\n",
    "    else:\n",
    "        o.append(i)\n",
    "print((l+o))"
   ]
  },
  {
   "cell_type": "code",
   "execution_count": 26,
   "id": "6147621f-612b-4f62-a19c-1b06ded03259",
   "metadata": {},
   "outputs": [
    {
     "name": "stdout",
     "output_type": "stream",
     "text": [
      "[0, 2, 4, 6, 1, 3, 5, 7]\n"
     ]
    }
   ],
   "source": [
    "n=[1,2,3,4,5,6,7,8]\n",
    "l=[]\n",
    "for i in range (len(n)):\n",
    "    if i %2==0:\n",
    "        l.append(i)\n",
    "for i in range (len(n)):\n",
    "    if i%2!=0:\n",
    "        l.append(i)\n",
    "print(l)"
   ]
  },
  {
   "cell_type": "code",
   "execution_count": 2,
   "id": "fead6783-da65-423e-9e11-43c32dc0b20c",
   "metadata": {},
   "outputs": [
    {
     "name": "stdin",
     "output_type": "stream",
     "text": [
      " acaf@ahaj*&^\n"
     ]
    },
    {
     "name": "stdout",
     "output_type": "stream",
     "text": [
      "4\n"
     ]
    }
   ],
   "source": [
    "text=input()\n",
    "c=0\n",
    "for i in text:\n",
    "    if not i.isalnum():\n",
    "        c+=1\n",
    "print(c)"
   ]
  },
  {
   "cell_type": "code",
   "execution_count": null,
   "id": "1d7c556a-1fbb-463e-be68-8225dd71395b",
   "metadata": {},
   "outputs": [],
   "source": [
    "a=[79,78,55,6,5,21]\n",
    "c=0\n",
    "\n"
   ]
  }
 ],
 "metadata": {
  "kernelspec": {
   "display_name": "Python [conda env:base] *",
   "language": "python",
   "name": "conda-base-py"
  },
  "language_info": {
   "codemirror_mode": {
    "name": "ipython",
    "version": 3
   },
   "file_extension": ".py",
   "mimetype": "text/x-python",
   "name": "python",
   "nbconvert_exporter": "python",
   "pygments_lexer": "ipython3",
   "version": "3.13.5"
  }
 },
 "nbformat": 4,
 "nbformat_minor": 5
}
